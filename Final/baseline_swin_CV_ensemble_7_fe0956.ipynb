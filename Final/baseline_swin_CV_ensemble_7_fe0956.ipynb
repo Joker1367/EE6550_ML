{
  "cells": [
    {
      "cell_type": "code",
      "execution_count": 1,
      "metadata": {
        "colab": {
          "base_uri": "https://localhost:8080/",
          "height": 84,
          "referenced_widgets": [
            "fef3b727fbb04ae1858535fd8e24a5cd",
            "e5870eb155d1410986a328c9345bc0c4",
            "3eb20713104d41a2bddd636488d73820",
            "0655a89cfb064def9df95786ef01eb50",
            "097d5ed74fab40d2be1a52853246cb4d",
            "181863d9e6c0436b952a12d7078f2cad",
            "0a892c1be2314c50b8998de4bf1fda54",
            "068dfba94bdd4171a799c446eeffd085",
            "9db69cf773f74c63958967f8822580f4",
            "770870a45fcf4ff4bfa83efe78df0f54",
            "5c4418a304f44b36b5f694383bf1ae50",
            "91c2e27988ad486693547c2e0fe1e8a9",
            "1fbcfc373c61459da88a44af69a16243",
            "6980c288f21d42829fdd7aff8110a0c6",
            "5f171279f75949908c4c64eaf0e04f5e",
            "f3783fb0b5e440b6a481a85a205d10e3",
            "758d2bc0a466496bb37c2085c3021ce4",
            "bbe4e4c410cf406aae53a02748ddb000",
            "aaff80a78d234bd8b2ed2cff3c930a3b",
            "774ef52853f448458a2203688c415e48",
            "8b5e796ef4234e7cb8302043aa14d4b6",
            "5187b35b27054180855f0b5fb71f0753",
            "7d96a7c3dbc64d29bc615cb417525038"
          ]
        },
        "id": "w0k6UMGDjyOi",
        "outputId": "ef9ba358-7d40-4ce7-8fdb-6c152db1f45d"
      },
      "outputs": [
        {
          "ename": "ModuleNotFoundError",
          "evalue": "No module named 'kagglehub'",
          "output_type": "error",
          "traceback": [
            "\u001b[1;31m---------------------------------------------------------------------------\u001b[0m",
            "\u001b[1;31mModuleNotFoundError\u001b[0m                       Traceback (most recent call last)",
            "Cell \u001b[1;32mIn[1], line 3\u001b[0m\n\u001b[0;32m      1\u001b[0m \u001b[38;5;66;03m# IMPORTANT: SOME KAGGLE DATA SOURCES ARE PRIVATE\u001b[39;00m\n\u001b[0;32m      2\u001b[0m \u001b[38;5;66;03m# RUN THIS CELL IN ORDER TO IMPORT YOUR KAGGLE DATA SOURCES.\u001b[39;00m\n\u001b[1;32m----> 3\u001b[0m \u001b[38;5;28;01mimport\u001b[39;00m \u001b[38;5;21;01mkagglehub\u001b[39;00m\n\u001b[0;32m      4\u001b[0m kagglehub\u001b[38;5;241m.\u001b[39mlogin()\n",
            "\u001b[1;31mModuleNotFoundError\u001b[0m: No module named 'kagglehub'"
          ]
        }
      ],
      "source": [
        "# IMPORTANT: SOME KAGGLE DATA SOURCES ARE PRIVATE\n",
        "# RUN THIS CELL IN ORDER TO IMPORT YOUR KAGGLE DATA SOURCES.\n",
        "import kagglehub\n",
        "kagglehub.login()\n"
      ]
    },
    {
      "cell_type": "code",
      "execution_count": 2,
      "metadata": {
        "colab": {
          "base_uri": "https://localhost:8080/"
        },
        "id": "1v-IHt-zjyOl",
        "outputId": "a718d4ed-b173-4065-b2fd-2ea9aad8f794"
      },
      "outputs": [
        {
          "name": "stdout",
          "output_type": "stream",
          "text": [
            "Downloading from https://www.kaggle.com/api/v1/competitions/data/download-all/petfinder-pawpularity-score...\n"
          ]
        },
        {
          "name": "stderr",
          "output_type": "stream",
          "text": [
            "100%|██████████| 983M/983M [00:09<00:00, 106MB/s]"
          ]
        },
        {
          "name": "stdout",
          "output_type": "stream",
          "text": [
            "Extracting files...\n"
          ]
        },
        {
          "name": "stderr",
          "output_type": "stream",
          "text": [
            "\n"
          ]
        },
        {
          "name": "stdout",
          "output_type": "stream",
          "text": [
            "Downloading from https://www.kaggle.com/api/v1/datasets/download/awsaf49/vit-keras-dataset?dataset_version_number=1...\n"
          ]
        },
        {
          "name": "stderr",
          "output_type": "stream",
          "text": [
            "100%|██████████| 54.2k/54.2k [00:00<00:00, 23.9MB/s]"
          ]
        },
        {
          "name": "stdout",
          "output_type": "stream",
          "text": [
            "Extracting files...\n"
          ]
        },
        {
          "name": "stderr",
          "output_type": "stream",
          "text": [
            "\n"
          ]
        },
        {
          "name": "stdout",
          "output_type": "stream",
          "text": [
            "Downloading from https://www.kaggle.com/api/v1/datasets/download/awsaf49/validators0182-dataset?dataset_version_number=1...\n"
          ]
        },
        {
          "name": "stderr",
          "output_type": "stream",
          "text": [
            "100%|██████████| 17.2k/17.2k [00:00<00:00, 16.2MB/s]"
          ]
        },
        {
          "name": "stdout",
          "output_type": "stream",
          "text": [
            "Extracting files...\n"
          ]
        },
        {
          "name": "stderr",
          "output_type": "stream",
          "text": [
            "\n"
          ]
        },
        {
          "name": "stdout",
          "output_type": "stream",
          "text": [
            "Downloading from https://www.kaggle.com/api/v1/datasets/download/rishigami/swintransformertf?dataset_version_number=4...\n"
          ]
        },
        {
          "name": "stderr",
          "output_type": "stream",
          "text": [
            "100%|██████████| 10.1k/10.1k [00:00<00:00, 2.60MB/s]"
          ]
        },
        {
          "name": "stdout",
          "output_type": "stream",
          "text": [
            "Extracting files...\n"
          ]
        },
        {
          "name": "stderr",
          "output_type": "stream",
          "text": [
            "\n"
          ]
        },
        {
          "name": "stdout",
          "output_type": "stream",
          "text": [
            "Downloading from https://www.kaggle.com/api/v1/datasets/download/ludovick/petfindertransformers?dataset_version_number=23...\n"
          ]
        },
        {
          "name": "stderr",
          "output_type": "stream",
          "text": [
            "100%|██████████| 24.7G/24.7G [05:50<00:00, 75.8MB/s]"
          ]
        },
        {
          "name": "stdout",
          "output_type": "stream",
          "text": [
            "Extracting files...\n"
          ]
        },
        {
          "name": "stderr",
          "output_type": "stream",
          "text": [
            "\n"
          ]
        },
        {
          "name": "stdout",
          "output_type": "stream",
          "text": [
            "Downloading from https://www.kaggle.com/api/v1/datasets/download/kozodoi/timm-pytorch-image-models?dataset_version_number=20...\n"
          ]
        },
        {
          "name": "stderr",
          "output_type": "stream",
          "text": [
            "100%|██████████| 1.26M/1.26M [00:00<00:00, 92.6MB/s]"
          ]
        },
        {
          "name": "stdout",
          "output_type": "stream",
          "text": [
            "Extracting files...\n",
            "Data source import complete.\n"
          ]
        },
        {
          "name": "stderr",
          "output_type": "stream",
          "text": [
            "\n"
          ]
        }
      ],
      "source": [
        "# IMPORTANT: RUN THIS CELL IN ORDER TO IMPORT YOUR KAGGLE DATA SOURCES,\n",
        "# THEN FEEL FREE TO DELETE THIS CELL.\n",
        "# NOTE: THIS NOTEBOOK ENVIRONMENT DIFFERS FROM KAGGLE'S PYTHON\n",
        "# ENVIRONMENT SO THERE MAY BE MISSING LIBRARIES USED BY YOUR\n",
        "# NOTEBOOK.\n",
        "\n",
        "petfinder_pawpularity_score_path = kagglehub.competition_download('petfinder-pawpularity-score')\n",
        "awsaf49_vit_keras_dataset_path = kagglehub.dataset_download('awsaf49/vit-keras-dataset')\n",
        "awsaf49_validators0182_dataset_path = kagglehub.dataset_download('awsaf49/validators0182-dataset')\n",
        "rishigami_swintransformertf_path = kagglehub.dataset_download('rishigami/swintransformertf')\n",
        "ludovick_petfindertransformers_path = kagglehub.dataset_download('ludovick/petfindertransformers')\n",
        "kozodoi_timm_pytorch_image_models_path = kagglehub.dataset_download('kozodoi/timm-pytorch-image-models')\n",
        "\n",
        "print('Data source import complete.')\n"
      ]
    },
    {
      "cell_type": "code",
      "execution_count": null,
      "metadata": {
        "execution": {
          "iopub.execute_input": "2021-12-27T06:39:31.733655Z",
          "iopub.status.busy": "2021-12-27T06:39:31.733139Z",
          "iopub.status.idle": "2021-12-27T06:39:31.740122Z",
          "shell.execute_reply": "2021-12-27T06:39:31.738934Z",
          "shell.execute_reply.started": "2021-12-27T06:39:31.733608Z"
        },
        "id": "klo9XlBvjyOm",
        "trusted": true
      },
      "outputs": [],
      "source": [
        "# Shiro"
      ]
    },
    {
      "cell_type": "code",
      "execution_count": 9,
      "metadata": {
        "colab": {
          "base_uri": "https://localhost:8080/"
        },
        "execution": {
          "iopub.execute_input": "2021-12-27T06:39:31.743365Z",
          "iopub.status.busy": "2021-12-27T06:39:31.742383Z",
          "iopub.status.idle": "2021-12-27T06:39:33.61601Z",
          "shell.execute_reply": "2021-12-27T06:39:33.614801Z",
          "shell.execute_reply.started": "2021-12-27T06:39:31.743312Z"
        },
        "id": "zP2jYvFdjyOm",
        "outputId": "f1a8bbf1-c627-450b-daf5-2693c4f6ef56",
        "trusted": true
      },
      "outputs": [
        {
          "name": "stdout",
          "output_type": "stream",
          "text": [
            "2.6.0+cu124\n"
          ]
        }
      ],
      "source": [
        "#### This Python 3 environment comes with many helpful analytics libraries installed\n",
        "# It is defined by the kaggle/python Docker image: https://github.com/kaggle/docker-python\n",
        "# For example, here's several helpful packages to load\n",
        "\n",
        "import numpy as np # linear algebra\n",
        "import pandas as pd # data processing, CSV file I/O (e.g. pd.read_csv)\n",
        "\n",
        "# Input data files are available in the read-only \"../input/\" directory\n",
        "# For example, running this (by clicking run or pressing Shift+Enter) will list all files under the input directory\n",
        "\n",
        "import os\n",
        "import cv2\n",
        "import torch\n",
        "from tqdm import tqdm\n",
        "from torch.cuda.amp import GradScaler, autocast\n",
        "print(torch.__version__)\n",
        "# You can write up to 20GB to the current directory (/kaggle/working/) that gets preserved as output when you create a version using \"Save & Run All\"\n",
        "# You can also write temporary files to /kaggle/temp/, but they won't be saved outside of the current session"
      ]
    },
    {
      "cell_type": "code",
      "execution_count": 7,
      "metadata": {
        "execution": {
          "iopub.execute_input": "2021-12-27T06:39:33.618368Z",
          "iopub.status.busy": "2021-12-27T06:39:33.617492Z",
          "iopub.status.idle": "2021-12-27T06:39:33.625464Z",
          "shell.execute_reply": "2021-12-27T06:39:33.624442Z",
          "shell.execute_reply.started": "2021-12-27T06:39:33.618321Z"
        },
        "id": "U2llxwkejyOm",
        "trusted": true
      },
      "outputs": [],
      "source": [
        "import sys\n",
        "sys.path.append('../input/timm-pytorch-image-models/pytorch-image-models-master')"
      ]
    },
    {
      "cell_type": "code",
      "execution_count": 5,
      "metadata": {
        "execution": {
          "iopub.execute_input": "2021-12-27T06:39:33.627681Z",
          "iopub.status.busy": "2021-12-27T06:39:33.62725Z",
          "iopub.status.idle": "2021-12-27T06:39:40.225584Z",
          "shell.execute_reply": "2021-12-27T06:39:40.224204Z",
          "shell.execute_reply.started": "2021-12-27T06:39:33.627584Z"
        },
        "id": "rZkaMB_djyOn",
        "trusted": true
      },
      "outputs": [],
      "source": [
        "import timm\n",
        "SEED = 42\n",
        "import random\n",
        "def seed_everything(seed_value):\n",
        "    os.environ['PYTHONHASHSEED'] = str(seed_value)\n",
        "    random.seed(seed_value)\n",
        "    np.random.seed(seed_value)\n",
        "    torch.manual_seed(seed_value)\n",
        "\n",
        "\n",
        "    if torch.cuda.is_available():\n",
        "        torch.cuda.manual_seed(seed_value)\n",
        "        torch.cuda.manual_seed_all(seed_value)\n",
        "        torch.backends.cudnn.deterministic = True\n",
        "        torch.backends.cudnn.benchmark = False\n",
        "seed_everything(SEED)"
      ]
    },
    {
      "cell_type": "code",
      "execution_count": 10,
      "metadata": {
        "colab": {
          "base_uri": "https://localhost:8080/",
          "height": 287
        },
        "execution": {
          "iopub.execute_input": "2021-12-27T06:39:40.230453Z",
          "iopub.status.busy": "2021-12-27T06:39:40.229936Z",
          "iopub.status.idle": "2021-12-27T06:39:40.250842Z",
          "shell.execute_reply": "2021-12-27T06:39:40.249876Z",
          "shell.execute_reply.started": "2021-12-27T06:39:40.230371Z"
        },
        "id": "u08JzN9cjyOn",
        "outputId": "48f47877-ffc3-4a0c-8439-301b5091e935",
        "trusted": true
      },
      "outputs": [
        {
          "ename": "FileNotFoundError",
          "evalue": "[Errno 2] No such file or directory: '../input/petfinder-pawpularity-score/test.csv'",
          "output_type": "error",
          "traceback": [
            "\u001b[0;31m---------------------------------------------------------------------------\u001b[0m",
            "\u001b[0;31mFileNotFoundError\u001b[0m                         Traceback (most recent call last)",
            "\u001b[0;32m<ipython-input-10-10b663950b07>\u001b[0m in \u001b[0;36m<cell line: 0>\u001b[0;34m()\u001b[0m\n\u001b[0;32m----> 1\u001b[0;31m \u001b[0mdf_test\u001b[0m \u001b[0;34m=\u001b[0m \u001b[0mpd\u001b[0m\u001b[0;34m.\u001b[0m\u001b[0mread_csv\u001b[0m\u001b[0;34m(\u001b[0m\u001b[0;34m\"../input/petfinder-pawpularity-score/test.csv\"\u001b[0m\u001b[0;34m)\u001b[0m\u001b[0;34m\u001b[0m\u001b[0;34m\u001b[0m\u001b[0m\n\u001b[0m",
            "\u001b[0;32m/usr/local/lib/python3.11/dist-packages/pandas/io/parsers/readers.py\u001b[0m in \u001b[0;36mread_csv\u001b[0;34m(filepath_or_buffer, sep, delimiter, header, names, index_col, usecols, dtype, engine, converters, true_values, false_values, skipinitialspace, skiprows, skipfooter, nrows, na_values, keep_default_na, na_filter, verbose, skip_blank_lines, parse_dates, infer_datetime_format, keep_date_col, date_parser, date_format, dayfirst, cache_dates, iterator, chunksize, compression, thousands, decimal, lineterminator, quotechar, quoting, doublequote, escapechar, comment, encoding, encoding_errors, dialect, on_bad_lines, delim_whitespace, low_memory, memory_map, float_precision, storage_options, dtype_backend)\u001b[0m\n\u001b[1;32m   1024\u001b[0m     \u001b[0mkwds\u001b[0m\u001b[0;34m.\u001b[0m\u001b[0mupdate\u001b[0m\u001b[0;34m(\u001b[0m\u001b[0mkwds_defaults\u001b[0m\u001b[0;34m)\u001b[0m\u001b[0;34m\u001b[0m\u001b[0;34m\u001b[0m\u001b[0m\n\u001b[1;32m   1025\u001b[0m \u001b[0;34m\u001b[0m\u001b[0m\n\u001b[0;32m-> 1026\u001b[0;31m     \u001b[0;32mreturn\u001b[0m \u001b[0m_read\u001b[0m\u001b[0;34m(\u001b[0m\u001b[0mfilepath_or_buffer\u001b[0m\u001b[0;34m,\u001b[0m \u001b[0mkwds\u001b[0m\u001b[0;34m)\u001b[0m\u001b[0;34m\u001b[0m\u001b[0;34m\u001b[0m\u001b[0m\n\u001b[0m\u001b[1;32m   1027\u001b[0m \u001b[0;34m\u001b[0m\u001b[0m\n\u001b[1;32m   1028\u001b[0m \u001b[0;34m\u001b[0m\u001b[0m\n",
            "\u001b[0;32m/usr/local/lib/python3.11/dist-packages/pandas/io/parsers/readers.py\u001b[0m in \u001b[0;36m_read\u001b[0;34m(filepath_or_buffer, kwds)\u001b[0m\n\u001b[1;32m    618\u001b[0m \u001b[0;34m\u001b[0m\u001b[0m\n\u001b[1;32m    619\u001b[0m     \u001b[0;31m# Create the parser.\u001b[0m\u001b[0;34m\u001b[0m\u001b[0;34m\u001b[0m\u001b[0m\n\u001b[0;32m--> 620\u001b[0;31m     \u001b[0mparser\u001b[0m \u001b[0;34m=\u001b[0m \u001b[0mTextFileReader\u001b[0m\u001b[0;34m(\u001b[0m\u001b[0mfilepath_or_buffer\u001b[0m\u001b[0;34m,\u001b[0m \u001b[0;34m**\u001b[0m\u001b[0mkwds\u001b[0m\u001b[0;34m)\u001b[0m\u001b[0;34m\u001b[0m\u001b[0;34m\u001b[0m\u001b[0m\n\u001b[0m\u001b[1;32m    621\u001b[0m \u001b[0;34m\u001b[0m\u001b[0m\n\u001b[1;32m    622\u001b[0m     \u001b[0;32mif\u001b[0m \u001b[0mchunksize\u001b[0m \u001b[0;32mor\u001b[0m \u001b[0miterator\u001b[0m\u001b[0;34m:\u001b[0m\u001b[0;34m\u001b[0m\u001b[0;34m\u001b[0m\u001b[0m\n",
            "\u001b[0;32m/usr/local/lib/python3.11/dist-packages/pandas/io/parsers/readers.py\u001b[0m in \u001b[0;36m__init__\u001b[0;34m(self, f, engine, **kwds)\u001b[0m\n\u001b[1;32m   1618\u001b[0m \u001b[0;34m\u001b[0m\u001b[0m\n\u001b[1;32m   1619\u001b[0m         \u001b[0mself\u001b[0m\u001b[0;34m.\u001b[0m\u001b[0mhandles\u001b[0m\u001b[0;34m:\u001b[0m \u001b[0mIOHandles\u001b[0m \u001b[0;34m|\u001b[0m \u001b[0;32mNone\u001b[0m \u001b[0;34m=\u001b[0m \u001b[0;32mNone\u001b[0m\u001b[0;34m\u001b[0m\u001b[0;34m\u001b[0m\u001b[0m\n\u001b[0;32m-> 1620\u001b[0;31m         \u001b[0mself\u001b[0m\u001b[0;34m.\u001b[0m\u001b[0m_engine\u001b[0m \u001b[0;34m=\u001b[0m \u001b[0mself\u001b[0m\u001b[0;34m.\u001b[0m\u001b[0m_make_engine\u001b[0m\u001b[0;34m(\u001b[0m\u001b[0mf\u001b[0m\u001b[0;34m,\u001b[0m \u001b[0mself\u001b[0m\u001b[0;34m.\u001b[0m\u001b[0mengine\u001b[0m\u001b[0;34m)\u001b[0m\u001b[0;34m\u001b[0m\u001b[0;34m\u001b[0m\u001b[0m\n\u001b[0m\u001b[1;32m   1621\u001b[0m \u001b[0;34m\u001b[0m\u001b[0m\n\u001b[1;32m   1622\u001b[0m     \u001b[0;32mdef\u001b[0m \u001b[0mclose\u001b[0m\u001b[0;34m(\u001b[0m\u001b[0mself\u001b[0m\u001b[0;34m)\u001b[0m \u001b[0;34m->\u001b[0m \u001b[0;32mNone\u001b[0m\u001b[0;34m:\u001b[0m\u001b[0;34m\u001b[0m\u001b[0;34m\u001b[0m\u001b[0m\n",
            "\u001b[0;32m/usr/local/lib/python3.11/dist-packages/pandas/io/parsers/readers.py\u001b[0m in \u001b[0;36m_make_engine\u001b[0;34m(self, f, engine)\u001b[0m\n\u001b[1;32m   1878\u001b[0m                 \u001b[0;32mif\u001b[0m \u001b[0;34m\"b\"\u001b[0m \u001b[0;32mnot\u001b[0m \u001b[0;32min\u001b[0m \u001b[0mmode\u001b[0m\u001b[0;34m:\u001b[0m\u001b[0;34m\u001b[0m\u001b[0;34m\u001b[0m\u001b[0m\n\u001b[1;32m   1879\u001b[0m                     \u001b[0mmode\u001b[0m \u001b[0;34m+=\u001b[0m \u001b[0;34m\"b\"\u001b[0m\u001b[0;34m\u001b[0m\u001b[0;34m\u001b[0m\u001b[0m\n\u001b[0;32m-> 1880\u001b[0;31m             self.handles = get_handle(\n\u001b[0m\u001b[1;32m   1881\u001b[0m                 \u001b[0mf\u001b[0m\u001b[0;34m,\u001b[0m\u001b[0;34m\u001b[0m\u001b[0;34m\u001b[0m\u001b[0m\n\u001b[1;32m   1882\u001b[0m                 \u001b[0mmode\u001b[0m\u001b[0;34m,\u001b[0m\u001b[0;34m\u001b[0m\u001b[0;34m\u001b[0m\u001b[0m\n",
            "\u001b[0;32m/usr/local/lib/python3.11/dist-packages/pandas/io/common.py\u001b[0m in \u001b[0;36mget_handle\u001b[0;34m(path_or_buf, mode, encoding, compression, memory_map, is_text, errors, storage_options)\u001b[0m\n\u001b[1;32m    871\u001b[0m         \u001b[0;32mif\u001b[0m \u001b[0mioargs\u001b[0m\u001b[0;34m.\u001b[0m\u001b[0mencoding\u001b[0m \u001b[0;32mand\u001b[0m \u001b[0;34m\"b\"\u001b[0m \u001b[0;32mnot\u001b[0m \u001b[0;32min\u001b[0m \u001b[0mioargs\u001b[0m\u001b[0;34m.\u001b[0m\u001b[0mmode\u001b[0m\u001b[0;34m:\u001b[0m\u001b[0;34m\u001b[0m\u001b[0;34m\u001b[0m\u001b[0m\n\u001b[1;32m    872\u001b[0m             \u001b[0;31m# Encoding\u001b[0m\u001b[0;34m\u001b[0m\u001b[0;34m\u001b[0m\u001b[0m\n\u001b[0;32m--> 873\u001b[0;31m             handle = open(\n\u001b[0m\u001b[1;32m    874\u001b[0m                 \u001b[0mhandle\u001b[0m\u001b[0;34m,\u001b[0m\u001b[0;34m\u001b[0m\u001b[0;34m\u001b[0m\u001b[0m\n\u001b[1;32m    875\u001b[0m                 \u001b[0mioargs\u001b[0m\u001b[0;34m.\u001b[0m\u001b[0mmode\u001b[0m\u001b[0;34m,\u001b[0m\u001b[0;34m\u001b[0m\u001b[0;34m\u001b[0m\u001b[0m\n",
            "\u001b[0;31mFileNotFoundError\u001b[0m: [Errno 2] No such file or directory: '../input/petfinder-pawpularity-score/test.csv'"
          ]
        }
      ],
      "source": [
        "df_test = pd.read_csv(\"../input/petfinder-pawpularity-score/test.csv\")"
      ]
    },
    {
      "cell_type": "code",
      "execution_count": 8,
      "metadata": {
        "colab": {
          "base_uri": "https://localhost:8080/",
          "height": 159
        },
        "execution": {
          "iopub.execute_input": "2021-12-27T06:39:40.253965Z",
          "iopub.status.busy": "2021-12-27T06:39:40.253278Z",
          "iopub.status.idle": "2021-12-27T06:39:40.267654Z",
          "shell.execute_reply": "2021-12-27T06:39:40.26665Z",
          "shell.execute_reply.started": "2021-12-27T06:39:40.25392Z"
        },
        "id": "2yrmiDvYjyOn",
        "outputId": "9299473d-d44f-4d97-c155-22aacb7c221d",
        "trusted": true
      },
      "outputs": [
        {
          "ename": "NameError",
          "evalue": "name 'df_test' is not defined",
          "output_type": "error",
          "traceback": [
            "\u001b[0;31m---------------------------------------------------------------------------\u001b[0m",
            "\u001b[0;31mNameError\u001b[0m                                 Traceback (most recent call last)",
            "\u001b[0;32m<ipython-input-8-df232046594e>\u001b[0m in \u001b[0;36m<cell line: 0>\u001b[0;34m()\u001b[0m\n\u001b[1;32m      1\u001b[0m \u001b[0mold_folder\u001b[0m \u001b[0;34m=\u001b[0m \u001b[0;34m\"../input/petfinder-pawpularity-score/test\"\u001b[0m\u001b[0;34m\u001b[0m\u001b[0;34m\u001b[0m\u001b[0m\n\u001b[0;32m----> 2\u001b[0;31m \u001b[0mdf_test\u001b[0m\u001b[0;34m[\u001b[0m\u001b[0;34m\"path\"\u001b[0m\u001b[0;34m]\u001b[0m \u001b[0;34m=\u001b[0m \u001b[0mdf_test\u001b[0m\u001b[0;34m.\u001b[0m\u001b[0mId\u001b[0m\u001b[0;34m.\u001b[0m\u001b[0mapply\u001b[0m\u001b[0;34m(\u001b[0m\u001b[0;32mlambda\u001b[0m \u001b[0mx\u001b[0m\u001b[0;34m:\u001b[0m \u001b[0mos\u001b[0m\u001b[0;34m.\u001b[0m\u001b[0mpath\u001b[0m\u001b[0;34m.\u001b[0m\u001b[0mjoin\u001b[0m\u001b[0;34m(\u001b[0m\u001b[0mold_folder\u001b[0m\u001b[0;34m,\u001b[0m \u001b[0mx\u001b[0m\u001b[0;34m+\u001b[0m\u001b[0;34m\".jpg\"\u001b[0m\u001b[0;34m)\u001b[0m\u001b[0;34m)\u001b[0m\u001b[0;34m\u001b[0m\u001b[0;34m\u001b[0m\u001b[0m\n\u001b[0m",
            "\u001b[0;31mNameError\u001b[0m: name 'df_test' is not defined"
          ]
        }
      ],
      "source": [
        "old_folder = \"../input/petfinder-pawpularity-score/test\"\n",
        "df_test[\"path\"] = df_test.Id.apply(lambda x: os.path.join(old_folder, x+\".jpg\"))"
      ]
    },
    {
      "cell_type": "code",
      "execution_count": 11,
      "metadata": {
        "execution": {
          "iopub.execute_input": "2021-12-27T06:39:40.270366Z",
          "iopub.status.busy": "2021-12-27T06:39:40.269342Z",
          "iopub.status.idle": "2021-12-27T06:39:40.285498Z",
          "shell.execute_reply": "2021-12-27T06:39:40.284329Z",
          "shell.execute_reply.started": "2021-12-27T06:39:40.270321Z"
        },
        "id": "hgZposa0jyOn",
        "trusted": true
      },
      "outputs": [],
      "source": [
        "from torch import nn\n",
        "\n",
        "\n",
        "class PetNet(torch.nn.Module):\n",
        "    def __init__(self, backbone, dim, num_classes=101, output=\"classification\", one_hot=False):\n",
        "        \"\"\"\n",
        "        In the constructor we instantiate two nn.Linear modules and assign them as\n",
        "        member variables.\n",
        "        \"\"\"\n",
        "        super(PetNet, self).__init__()\n",
        "\n",
        "        self.type = output\n",
        "        self.backbone = backbone\n",
        "        self.one_hot = one_hot\n",
        "        if one_hot:\n",
        "            dim = dim + 12\n",
        "        self.last_layer = nn.Linear(dim, num_classes)\n",
        "        self.r = torch.arange(num_classes).unsqueeze(0)\n",
        "\n",
        "    def to_device(self, device):\n",
        "        self.r = self.r.to(device)\n",
        "    def forward(self, x, x2=None):\n",
        "        \"\"\"\n",
        "        In the forward function we accept a Tensor of input data and we must return\n",
        "        a Tensor of output data. We can use Modules defined in the constructor as\n",
        "        well as arbitrary operators on Tensors.\n",
        "        \"\"\"\n",
        "        features = self.backbone(x)\n",
        "        #print(len(features),features[0].shape, features[1].shape)\n",
        "        #print(features.shape)\n",
        "        if type(features) == tuple:\n",
        "            features = features[0]\n",
        "        #print(features.shape, x2.shape)\n",
        "        if self.one_hot:\n",
        "            features = torch.cat((features, x2), dim=-1)\n",
        "\n",
        "        #print(features.shape)\n",
        "        output_proba = self.last_layer(features)\n",
        "\n",
        "        # if self.type == \"regression\":\n",
        "        #     output = nn.functional.softmax(output_proba, dim=1)\n",
        "        #     #print(output)\n",
        "\n",
        "        #     output = (self.r * output).sum(1)\n",
        "        #     return output, output_proba\n",
        "        #     #print(output.shape)\n",
        "\n",
        "        #print(output_proba.shape)\n",
        "        return output_proba"
      ]
    },
    {
      "cell_type": "code",
      "execution_count": null,
      "metadata": {
        "execution": {
          "iopub.execute_input": "2021-12-27T06:39:40.288674Z",
          "iopub.status.busy": "2021-12-27T06:39:40.287209Z",
          "iopub.status.idle": "2021-12-27T06:39:40.30381Z",
          "shell.execute_reply": "2021-12-27T06:39:40.302484Z",
          "shell.execute_reply.started": "2021-12-27T06:39:40.28863Z"
        },
        "id": "xEiSiHi6jyOo",
        "trusted": true
      },
      "outputs": [],
      "source": [
        "# evaluation     segment\n",
        "def inference_fn(model, dataloader, cfg):\n",
        "    t=tqdm(dataloader, disable=not cfg.verbose)\n",
        "\n",
        "    y_preds = []\n",
        "    model.eval()\n",
        "    device = cfg.device\n",
        "    with torch.no_grad():\n",
        "        for i, batch in enumerate(t):\n",
        "\n",
        "            if len(batch) == 2:\n",
        "                inputs, indices = batch\n",
        "                inputs2 = None\n",
        "            else:\n",
        "                inputs, inputs2, indices = batch\n",
        "                inputs2 = inputs2.to(cfg.device, dtype=torch.float)\n",
        "\n",
        "            inputs = inputs.to(device, dtype=torch.float)\n",
        "\n",
        "            with autocast(cfg.use_apex_val):\n",
        "                outputs = model(inputs, x2=inputs2)\n",
        "                if type(outputs) == tuple:\n",
        "                    outputs = outputs[0]\n",
        "\n",
        "            if cfg.mode == \"classification\":\n",
        "                y_preds.append( torch.nn.functional.softmax(outputs, dim=1).cpu().detach().numpy())\n",
        "            else:\n",
        "                y_preds.append( outputs.cpu().detach().numpy())\n",
        "    return np.concatenate(y_preds).astype(np.float32)"
      ]
    },
    {
      "cell_type": "code",
      "execution_count": null,
      "metadata": {
        "execution": {
          "iopub.execute_input": "2021-12-27T06:39:40.308061Z",
          "iopub.status.busy": "2021-12-27T06:39:40.307825Z",
          "iopub.status.idle": "2021-12-27T06:39:40.323158Z",
          "shell.execute_reply": "2021-12-27T06:39:40.322139Z",
          "shell.execute_reply.started": "2021-12-27T06:39:40.308026Z"
        },
        "id": "BmQGgacqjyOo",
        "trusted": true
      },
      "outputs": [],
      "source": [
        "import torch\n",
        "import os\n",
        "import pandas as pd\n",
        "import cv2\n",
        "from torchvision import transforms as pth_transforms\n",
        "from tqdm import tqdm\n",
        "import numpy as np\n",
        "from torch.utils.data import Dataset, DataLoader\n",
        "from timm.data.constants import IMAGENET_DEFAULT_MEAN, IMAGENET_DEFAULT_STD\n",
        "\n",
        "class PetDataset(Dataset):\n",
        "    \"\"\"Face Landmarks dataset.\"\"\"\n",
        "\n",
        "    def __init__(self, data,one_hot=False,resize=224):\n",
        "        \"\"\"\n",
        "        Args:\n",
        "            csv_file (string): Path to the csv file with annotations.\n",
        "            root_dir (string): Directory with all the images.\n",
        "            transform (callable, optional): Optional transform to be applied\n",
        "                on a sample.\n",
        "        \"\"\"\n",
        "        self.data = data[\"path\"].values.tolist()\n",
        "        self.one_hot = one_hot\n",
        "        if one_hot: # 12 feature\n",
        "            self.data2 = data[['Subject Focus', 'Eyes', 'Face', 'Near', 'Action', 'Accessory',\n",
        "                               'Group', 'Collage', 'Human', 'Occlusion', 'Info', 'Blur']].values\n",
        "        self.transform = pth_transforms.Compose([\n",
        "                                                 pth_transforms.ToPILImage(),\n",
        "                                                 pth_transforms.Resize((resize, resize)),\n",
        "                                                 #pth_transforms.CenterCrop(224),\n",
        "                                                 pth_transforms.ToTensor(),\n",
        "                                                 pth_transforms.Normalize((0.485, 0.456, 0.406), (0.229, 0.224, 0.225)),\n",
        "                                             ])\n",
        "\n",
        "    def __getitem__(self, idx):\n",
        "        img = cv2.imread(self.data[idx])\n",
        "        #img = cv2.resize(img, (224,224))\n",
        "        img = self.transform(img)\n",
        "        if self.one_hot:\n",
        "            return img, self.data2[idx], idx\n",
        "        return img, idx\n",
        "\n",
        "    def __len__(self):\n",
        "        return len(self.data)"
      ]
    },
    {
      "cell_type": "code",
      "execution_count": null,
      "metadata": {
        "execution": {
          "iopub.execute_input": "2021-12-27T06:39:40.32524Z",
          "iopub.status.busy": "2021-12-27T06:39:40.324613Z",
          "iopub.status.idle": "2021-12-27T06:39:40.338907Z",
          "shell.execute_reply": "2021-12-27T06:39:40.337938Z",
          "shell.execute_reply.started": "2021-12-27T06:39:40.325194Z"
        },
        "id": "YPDbawUCjyOo",
        "trusted": true
      },
      "outputs": [],
      "source": [
        "class Config(object):\n",
        "    def __init__(self):\n",
        "        self.epochs = 100\n",
        "        self.lr = 1e-4          # learning rate\n",
        "        self.wd = 1e-5\n",
        "        self.accumulation = 1\n",
        "        self.batch_size=32\n",
        "        self.use_apex = True\n",
        "        self.use_apex_val = False\n",
        "        self.device = \"cuda:0\" if torch.cuda.is_available() else \"cpu\"\n",
        "        self.num_classes = 101\n",
        "        self.model_name = \"cait_m36_384\" #\"cait_m36_384\"#'swin_large_patch4_window12_384_in22k'\n",
        "        self.kfold=5\n",
        "        self.resize = 384\n",
        "        self.one_hot= True\n",
        "        self.mode = \"classification\"\n",
        "        self.verbose = True\n",
        "        self.verbose_val = True\n",
        "        self.smoothing = 0.1\n",
        "        # optimizer\n",
        "        self.patience = 5\n",
        "        self.factor = 0.5\n",
        "cfg = Config()"
      ]
    },
    {
      "cell_type": "code",
      "execution_count": null,
      "metadata": {
        "execution": {
          "iopub.execute_input": "2021-12-27T06:39:40.341253Z",
          "iopub.status.busy": "2021-12-27T06:39:40.34066Z",
          "iopub.status.idle": "2021-12-27T06:39:51.877251Z",
          "shell.execute_reply": "2021-12-27T06:39:51.876164Z",
          "shell.execute_reply.started": "2021-12-27T06:39:40.341078Z"
        },
        "id": "3siB9zdzjyOo",
        "trusted": true
      },
      "outputs": [],
      "source": [
        "backbone = timm.create_model(cfg.model_name, pretrained=False)\n",
        "backbone.head = nn.Identity()\n",
        "backbone.head_dist = nn.Identity()\n",
        "model = PetNet(backbone, dim=768, num_classes=cfg.num_classes, output=cfg.mode, one_hot=cfg.one_hot)\n",
        "\n",
        "model = model.to(cfg.device)\n",
        "model.to_device(cfg.device)"
      ]
    },
    {
      "cell_type": "code",
      "execution_count": null,
      "metadata": {
        "execution": {
          "iopub.execute_input": "2021-12-27T06:39:51.880127Z",
          "iopub.status.busy": "2021-12-27T06:39:51.878732Z",
          "iopub.status.idle": "2021-12-27T06:41:01.399854Z",
          "shell.execute_reply": "2021-12-27T06:41:01.398828Z",
          "shell.execute_reply.started": "2021-12-27T06:39:51.880081Z"
        },
        "id": "sT88zI3gjyOo",
        "trusted": true
      },
      "outputs": [],
      "source": [
        "test_dataset = PetDataset(data=df_test, one_hot=cfg.one_hot, resize=cfg.resize)#PetDataset(data=new_images,  resize=224)\n",
        "test_dataloader = DataLoader(test_dataset, num_workers=2, batch_size=cfg.batch_size, shuffle=False)\n",
        "preds_avg = np.zeros((len(df_test),))\n",
        "for i in range(cfg.kfold):\n",
        "    ckpt_name = f\"../input/petfinder-cait-m36-384/cait_m36_384-best-petfinders-classification-fold{i}.pth\"\n",
        "\n",
        "    model.load_state_dict(torch.load(ckpt_name, map_location=\"cpu\"))\n",
        "    #model = model.to(cfg.device)\n",
        "    #model.to_device(cfg.device)\n",
        "    preds = inference_fn(model, test_dataloader, cfg)\n",
        "    #preds_max = np.argmax(preds, axis=1)\n",
        "    preds_mean = (preds * np.array(range(cfg.num_classes)).reshape(1,-1)).sum(1)\n",
        "    preds_avg += preds_mean\n",
        "\n",
        "preds_cait_384 = preds_avg / cfg.kfold"
      ]
    },
    {
      "cell_type": "code",
      "execution_count": null,
      "metadata": {
        "execution": {
          "iopub.execute_input": "2021-12-27T06:41:01.403904Z",
          "iopub.status.busy": "2021-12-27T06:41:01.40343Z",
          "iopub.status.idle": "2021-12-27T06:41:01.414516Z",
          "shell.execute_reply": "2021-12-27T06:41:01.413141Z",
          "shell.execute_reply.started": "2021-12-27T06:41:01.403869Z"
        },
        "id": "eBbErJzfjyOo",
        "trusted": true
      },
      "outputs": [],
      "source": [
        "class Config(object):\n",
        "    def __init__(self):\n",
        "        self.epochs = 100\n",
        "        self.lr = 1e-4\n",
        "        self.wd = 1e-5\n",
        "        self.accumulation = 1\n",
        "        self.batch_size=16\n",
        "        self.use_apex = True\n",
        "        self.use_apex_val = False\n",
        "        self.device = \"cuda:0\" if torch.cuda.is_available() else \"cpu\"\n",
        "        self.num_classes = 101\n",
        "        self.model_name = \"cait_m48_448\" #\"cait_m36_384\"#'swin_large_patch4_window12_384_in22k'\n",
        "        self.kfold=5\n",
        "        self.resize = 448\n",
        "        self.one_hot= True\n",
        "        self.mode = \"classification\"\n",
        "        self.verbose = True\n",
        "        self.verbose_val = True\n",
        "        self.smoothing = 0.1\n",
        "        # optimizer\n",
        "        self.patience = 5\n",
        "        self.factor = 0.5\n",
        "cfg = Config()"
      ]
    },
    {
      "cell_type": "code",
      "execution_count": null,
      "metadata": {
        "execution": {
          "iopub.execute_input": "2021-12-27T06:41:01.422411Z",
          "iopub.status.busy": "2021-12-27T06:41:01.422076Z",
          "iopub.status.idle": "2021-12-27T06:41:09.203426Z",
          "shell.execute_reply": "2021-12-27T06:41:09.202253Z",
          "shell.execute_reply.started": "2021-12-27T06:41:01.42238Z"
        },
        "id": "NiOJKBzEjyOo",
        "trusted": true
      },
      "outputs": [],
      "source": [
        "backbone = timm.create_model(cfg.model_name, pretrained=False)\n",
        "backbone.head = nn.Identity()\n",
        "backbone.head_dist = nn.Identity()\n",
        "model = PetNet(backbone, dim=768, num_classes=cfg.num_classes, output=cfg.mode, one_hot=cfg.one_hot)\n",
        "\n",
        "model = model.to(cfg.device)\n",
        "model.to_device(cfg.device)"
      ]
    },
    {
      "cell_type": "code",
      "execution_count": null,
      "metadata": {
        "execution": {
          "iopub.execute_input": "2021-12-27T06:41:09.206005Z",
          "iopub.status.busy": "2021-12-27T06:41:09.20567Z",
          "iopub.status.idle": "2021-12-27T06:42:37.510273Z",
          "shell.execute_reply": "2021-12-27T06:42:37.508305Z",
          "shell.execute_reply.started": "2021-12-27T06:41:09.205955Z"
        },
        "id": "HbI67YZ_jyOo",
        "trusted": true
      },
      "outputs": [],
      "source": [
        "test_dataset = PetDataset(data=df_test, one_hot=cfg.one_hot, resize=cfg.resize)#PetDataset(data=new_images,  resize=224)\n",
        "test_dataloader = DataLoader(test_dataset, num_workers=2, batch_size=cfg.batch_size, shuffle=False)\n",
        "preds_avg = np.zeros((len(df_test),))\n",
        "for i in range(cfg.kfold):\n",
        "    ckpt_name = f\"../input/petfindertransformers/cait_m48_448-adam-aug-mixup-one-hot-newfolds/cait_m48_448-best-petfinders-classification-fold{i}.pth\"\n",
        "\n",
        "    model.load_state_dict(torch.load(ckpt_name, map_location=\"cpu\"))\n",
        "    #model = model.to(cfg.device)\n",
        "    #model.to_device(cfg.device)\n",
        "    preds = inference_fn(model, test_dataloader, cfg)\n",
        "    #preds_max = np.argmax(preds, axis=1)\n",
        "    preds_mean = (preds * np.array(range(cfg.num_classes)).reshape(1,-1)).sum(1)\n",
        "    preds_avg += preds_mean\n",
        "\n",
        "preds_cait_448 = preds_avg / cfg.kfold"
      ]
    },
    {
      "cell_type": "code",
      "execution_count": null,
      "metadata": {
        "execution": {
          "iopub.execute_input": "2021-12-27T06:42:37.51317Z",
          "iopub.status.busy": "2021-12-27T06:42:37.512475Z",
          "iopub.status.idle": "2021-12-27T06:42:38.620497Z",
          "shell.execute_reply": "2021-12-27T06:42:38.61945Z",
          "shell.execute_reply.started": "2021-12-27T06:42:37.51312Z"
        },
        "id": "AdCfmde9jyOo",
        "trusted": true
      },
      "outputs": [],
      "source": [
        "import gc\n",
        "\n",
        "model = model.to(\"cpu\")\n",
        "del model\n",
        "\n",
        "torch.cuda.empty_cache()"
      ]
    },
    {
      "cell_type": "code",
      "execution_count": null,
      "metadata": {
        "execution": {
          "iopub.execute_input": "2021-12-27T06:42:38.622639Z",
          "iopub.status.busy": "2021-12-27T06:42:38.62216Z",
          "iopub.status.idle": "2021-12-27T06:42:38.628398Z",
          "shell.execute_reply": "2021-12-27T06:42:38.627406Z",
          "shell.execute_reply.started": "2021-12-27T06:42:38.622596Z"
        },
        "id": "KXR5pO4ljyOo",
        "trusted": true
      },
      "outputs": [],
      "source": [
        "# Tony"
      ]
    },
    {
      "cell_type": "code",
      "execution_count": null,
      "metadata": {
        "execution": {
          "iopub.execute_input": "2021-12-27T06:42:38.630576Z",
          "iopub.status.busy": "2021-12-27T06:42:38.629932Z",
          "iopub.status.idle": "2021-12-27T06:43:09.91982Z",
          "shell.execute_reply": "2021-12-27T06:43:09.91865Z",
          "shell.execute_reply.started": "2021-12-27T06:42:38.63053Z"
        },
        "id": "cGgNeI_wjyOp",
        "trusted": true
      },
      "outputs": [],
      "source": [
        "import sys\n",
        "sys.path.append('/kaggle/input/vit-keras-dataset')\n",
        "!pip install -q /kaggle/input/validators0182-dataset/validators-0.18.2-py3-none-any.whl"
      ]
    },
    {
      "cell_type": "code",
      "execution_count": null,
      "metadata": {
        "execution": {
          "iopub.execute_input": "2021-12-27T06:43:09.922582Z",
          "iopub.status.busy": "2021-12-27T06:43:09.922201Z",
          "iopub.status.idle": "2021-12-27T06:43:11.082778Z",
          "shell.execute_reply": "2021-12-27T06:43:11.081769Z",
          "shell.execute_reply.started": "2021-12-27T06:43:09.922536Z"
        },
        "id": "AdWf6KINjyOp",
        "trusted": true
      },
      "outputs": [],
      "source": [
        "import sys\n",
        "sys.path.append('../input/swintransformertf')\n",
        "from swintransformer import SwinTransformer"
      ]
    },
    {
      "cell_type": "code",
      "execution_count": null,
      "metadata": {
        "execution": {
          "iopub.execute_input": "2021-12-27T06:43:11.084851Z",
          "iopub.status.busy": "2021-12-27T06:43:11.08448Z",
          "iopub.status.idle": "2021-12-27T06:43:12.742897Z",
          "shell.execute_reply": "2021-12-27T06:43:12.741808Z",
          "shell.execute_reply.started": "2021-12-27T06:43:11.084807Z"
        },
        "id": "KzyKiVI0jyOp",
        "trusted": true
      },
      "outputs": [],
      "source": [
        "import os\n",
        "import re\n",
        "import cv2\n",
        "import numpy as np\n",
        "import pandas as pd\n",
        "import joblib\n",
        "from typing import Optional, Tuple\n",
        "import warnings\n",
        "\n",
        "import tensorflow as tf\n",
        "import tensorflow.keras.backend as K\n",
        "import tensorflow_addons as tfa\n",
        "# import efficientnet.tfkeras as efnB\n",
        "from vit_keras import vit, utils, visualize, layers\n",
        "from scipy.signal import get_window\n",
        "\n",
        "from tensorflow.keras.losses import mean_squared_error\n",
        "from sklearn.metrics import confusion_matrix, classification_report, roc_auc_score\n",
        "\n",
        "import tensorflow_hub as hub\n",
        "\n",
        "from tqdm.notebook import tqdm\n",
        "\n",
        "print(tf.__version__)"
      ]
    },
    {
      "cell_type": "code",
      "execution_count": null,
      "metadata": {
        "execution": {
          "iopub.execute_input": "2021-12-27T06:43:12.744991Z",
          "iopub.status.busy": "2021-12-27T06:43:12.744613Z",
          "iopub.status.idle": "2021-12-27T06:43:12.783517Z",
          "shell.execute_reply": "2021-12-27T06:43:12.782495Z",
          "shell.execute_reply.started": "2021-12-27T06:43:12.744934Z"
        },
        "id": "zns6TrYOjyOp",
        "trusted": true
      },
      "outputs": [],
      "source": [
        "AUTO = tf.data.experimental.AUTOTUNE\n",
        "strategy = tf.distribute.get_strategy()\n",
        "print(\"Num GPUs Available: \", len(tf.config.experimental.list_physical_devices('GPU')))\n",
        "\n",
        "# Model Params\n",
        "KFOLDS = 5\n",
        "FOLD = 0\n",
        "\n",
        "BATCH_SIZE = 16\n",
        "AUG = False"
      ]
    },
    {
      "cell_type": "code",
      "execution_count": null,
      "metadata": {
        "execution": {
          "iopub.execute_input": "2021-12-27T06:43:12.786153Z",
          "iopub.status.busy": "2021-12-27T06:43:12.785496Z",
          "iopub.status.idle": "2021-12-27T06:43:12.838274Z",
          "shell.execute_reply": "2021-12-27T06:43:12.837309Z",
          "shell.execute_reply.started": "2021-12-27T06:43:12.786111Z"
        },
        "id": "sVpfJBRejyOp",
        "trusted": true
      },
      "outputs": [],
      "source": [
        "BASE_PATH = '/kaggle/input/petfinder-pawpularity-score'\n",
        "\n",
        "df = pd.read_csv('../input/petfinder-pawpularity-score/train.csv')\n",
        "df['image_path'] = BASE_PATH + '/train/' + df.Id + '.jpg'\n",
        "\n",
        "test_df  = pd.read_csv('../input/petfinder-pawpularity-score/test.csv')\n",
        "test_df['image_path'] = BASE_PATH + '/test/' + test_df.Id + '.jpg'"
      ]
    },
    {
      "cell_type": "code",
      "execution_count": null,
      "metadata": {
        "execution": {
          "iopub.execute_input": "2021-12-27T06:43:12.840803Z",
          "iopub.status.busy": "2021-12-27T06:43:12.839998Z",
          "iopub.status.idle": "2021-12-27T06:43:12.853652Z",
          "shell.execute_reply": "2021-12-27T06:43:12.852199Z",
          "shell.execute_reply.started": "2021-12-27T06:43:12.840744Z"
        },
        "id": "JoaTl_RijyOp",
        "trusted": true
      },
      "outputs": [],
      "source": [
        "\"\"\"\n",
        "test_df2 = pd.DataFrame()\n",
        "\n",
        "for i in range(len(test_df)):\n",
        "    a = test_df.loc[i]\n",
        "    d = pd.DataFrame(a).T\n",
        "    test_df2 = test_df2.append([d]*850)  #每行复制24倍\n",
        "test_df = test_df2\n",
        "\"\"\""
      ]
    },
    {
      "cell_type": "code",
      "execution_count": null,
      "metadata": {
        "execution": {
          "iopub.execute_input": "2021-12-27T06:43:12.856681Z",
          "iopub.status.busy": "2021-12-27T06:43:12.856278Z",
          "iopub.status.idle": "2021-12-27T06:43:12.868062Z",
          "shell.execute_reply": "2021-12-27T06:43:12.866777Z",
          "shell.execute_reply.started": "2021-12-27T06:43:12.85662Z"
        },
        "id": "Jh5wAjwejyOp",
        "trusted": true
      },
      "outputs": [],
      "source": [
        "def parse_func(filename, image_size):\n",
        "    img = tf.io.read_file(filename)\n",
        "    img = tf.image.decode_jpeg(img, channels=3)\n",
        "    img = tf.keras.preprocessing.image.smart_resize(img, [image_size, image_size], interpolation='bilinear')\n",
        "\n",
        "    img = tf.cast(img, tf.float32)\n",
        "    img = tf.keras.applications.imagenet_utils.preprocess_input(img, mode=\"torch\")\n",
        "\n",
        "    img = tf.reshape(img, [image_size, image_size, 3])\n",
        "    return img\n",
        "\n",
        "\n",
        "def get_dataset(files, image_size, batch_size=BATCH_SIZE, aug=False):\n",
        "\n",
        "    # ds = tf.data.TFRecordDataset(files, num_parallel_reads=AUTO)\n",
        "    ds = tf.data.Dataset.from_tensor_slices(files)\n",
        "    ds = ds.cache()\n",
        "\n",
        "    ds = ds.map(lambda x: parse_func(x, image_size), num_parallel_calls=AUTO)\n",
        "\n",
        "    \"\"\"\n",
        "    if aug:\n",
        "        ds = ds.map(augment, num_parallel_calls=AUTO)\n",
        "    \"\"\"\n",
        "\n",
        "    ds = ds.batch(batch_size)\n",
        "    ds = ds.prefetch(AUTO)\n",
        "    return ds"
      ]
    },
    {
      "cell_type": "code",
      "execution_count": null,
      "metadata": {
        "execution": {
          "iopub.execute_input": "2021-12-27T06:43:12.870567Z",
          "iopub.status.busy": "2021-12-27T06:43:12.869914Z",
          "iopub.status.idle": "2021-12-27T06:43:12.885104Z",
          "shell.execute_reply": "2021-12-27T06:43:12.883827Z",
          "shell.execute_reply.started": "2021-12-27T06:43:12.870506Z"
        },
        "id": "6PbEMpM1jyOp",
        "trusted": true
      },
      "outputs": [],
      "source": [
        "def build_model():\n",
        "    inp = tf.keras.layers.Input(shape=[384, 384, 3])\n",
        "    base = SwinTransformer('swin_large_384', include_top=False, pretrained=False, use_tpu=False)\n",
        "\n",
        "    features = base(inp)\n",
        "    x = tf.keras.layers.Dropout(0.3)(features)\n",
        "    x = tf.keras.layers.Dense(32, activation='relu')(x)\n",
        "    x = tf.keras.layers.Dropout(0.3)(x)\n",
        "    x = tf.keras.layers.Dense(1, activation='sigmoid')(x)\n",
        "    model = tf.keras.Model(inputs=inp, outputs=[x, features])\n",
        "\n",
        "    opt = tf.optimizers.Adam(learning_rate=1e-4)\n",
        "\n",
        "    model.compile(opt, loss=tf.keras.losses.BinaryCrossentropy())\n",
        "\n",
        "    return model"
      ]
    },
    {
      "cell_type": "code",
      "execution_count": null,
      "metadata": {
        "execution": {
          "iopub.execute_input": "2021-12-27T06:44:55.584278Z",
          "iopub.status.busy": "2021-12-27T06:44:55.583892Z",
          "iopub.status.idle": "2021-12-27T06:48:03.257537Z",
          "shell.execute_reply": "2021-12-27T06:48:03.256424Z",
          "shell.execute_reply.started": "2021-12-27T06:44:55.584236Z"
        },
        "id": "HAqv4XayjyOq",
        "trusted": true
      },
      "outputs": [],
      "source": [
        "import os\n",
        "from glob import glob\n",
        "\n",
        "BASE_DIRS = [\n",
        "    (384, '/kaggle/input/petfinder-baseline-swt-174358-tfio', '/kaggle/input/petfinder-baseline-swt-174358-svr-all'),\n",
        "]\n",
        "\n",
        "MODEL_CONFIGS = []\n",
        "for dim, base_dir, svr_dir in  BASE_DIRS:\n",
        "    paths = sorted(glob(os.path.join(base_dir, '*h5')))\n",
        "    # svr_paths = sorted(glob(os.path.join(svr_dir, 'svr-fold*.h5')))\n",
        "    svr_default_paths = [os.path.join(svr_dir, f'svr-fold{i}.h5') for i in range(5)]\n",
        "    svr_2_paths = [os.path.join(svr_dir, f'svr-fold-2-{i}.h5') for i in range(5)]\n",
        "    svr_20_paths = [os.path.join(svr_dir, f'svr-fold-20-{i}.h5') for i in range(5)]\n",
        "\n",
        "    if len(paths)==0:\n",
        "        print('no model found for :',base_dir)\n",
        "\n",
        "    MODEL_CONFIGS.append([dim, paths, svr_default_paths, svr_2_paths, svr_20_paths])\n",
        "\n",
        "print('='*35)\n",
        "print('### Inference')\n",
        "print('='*35)\n",
        "preds=[]\n",
        "preds_svr = []\n",
        "preds_svr_2 = []\n",
        "preds_svr_20 = []\n",
        "for dim, model_paths, svr_default_paths, svr_2_paths, svr_20_paths in tqdm(MODEL_CONFIGS):\n",
        "    test_paths = test_df.image_path.tolist()\n",
        "    dtest = get_dataset(test_paths, dim)\n",
        "\n",
        "    for model_path, svr_default_path, svr_2_path, svr_20_path in zip(model_paths, svr_default_paths, svr_2_paths, svr_20_paths):\n",
        "        print(f'Model: {model_path}')\n",
        "\n",
        "        with strategy.scope():\n",
        "            model = build_model()\n",
        "            model.load_weights(model_path)\n",
        "            # model = tf.keras.models.load_model(model_path, custom_objects={'KerasLayer': hub.KerasLayer})\n",
        "\n",
        "        print('Predicting...');\n",
        "        pred, features = model.predict(dtest, verbose=1)\n",
        "\n",
        "        # svr default\n",
        "        svr = joblib.load(svr_default_path)\n",
        "        pred_svr = np.expand_dims(svr.predict(features), 1)\n",
        "        # svr 2\n",
        "        svr = joblib.load(svr_2_path)\n",
        "        pred_svr_2 = np.expand_dims(svr.predict(features), 1)\n",
        "        # svr 20\n",
        "        svr = joblib.load(svr_20_path)\n",
        "        pred_svr_20 = np.expand_dims(svr.predict(features), 1)\n",
        "\n",
        "\n",
        "        pred = pred[:len(test_paths),:]\n",
        "        pred_svr = pred_svr[:len(test_paths), :]\n",
        "        pred_svr_2 = pred_svr_2[:len(test_paths), :]\n",
        "        pred_svr_20 = pred_svr_20[:len(test_paths), :]\n",
        "\n",
        "\n",
        "        preds.append(pred*100.0) # denormalizing from [0-1] to [0-100]\n",
        "        preds_svr.append(pred_svr) # denormalizing from [0-1] to [0-100]\n",
        "        preds_svr_2.append(pred_svr_2) # denormalizing from [0-1] to [0-100]\n",
        "        preds_svr_20.append(pred_svr_20) # denormalizing from [0-1] to [0-100]\n",
        "        print()\n",
        "\n",
        "preds_384 = np.mean(preds, axis=0)\n",
        "preds_384_svr = np.mean(preds_svr, axis=0)\n",
        "preds_384_svr_2 = np.mean(preds_svr_2, axis=0)\n",
        "preds_384_svr_20 = np.mean(preds_svr_20, axis=0)"
      ]
    },
    {
      "cell_type": "code",
      "execution_count": null,
      "metadata": {
        "execution": {
          "iopub.execute_input": "2021-12-27T06:48:25.684658Z",
          "iopub.status.busy": "2021-12-27T06:48:25.684357Z",
          "iopub.status.idle": "2021-12-27T06:51:36.021888Z",
          "shell.execute_reply": "2021-12-27T06:51:36.020773Z",
          "shell.execute_reply.started": "2021-12-27T06:48:25.684626Z"
        },
        "id": "Sw3wT_1XjyOq",
        "trusted": true
      },
      "outputs": [],
      "source": [
        "from glob import glob\n",
        "\n",
        "BASE_DIRS = [\n",
        "    (384, '/kaggle/input/petfinder-baseline-swt-173328-soft', '/kaggle/input/petfinder-baseline-swt-173328-svr-all'),\n",
        "]\n",
        "\n",
        "MODEL_CONFIGS = []\n",
        "for dim, base_dir, svr_dir in  BASE_DIRS:\n",
        "    paths = sorted(glob(os.path.join(base_dir, '*h5')))\n",
        "    # svr_paths = sorted(glob(os.path.join(svr_dir, 'svr-fold*.h5')))\n",
        "    svr_default_paths = [os.path.join(svr_dir, f'svr-fold{i}.h5') for i in range(5)]\n",
        "    svr_2_paths = [os.path.join(svr_dir, f'svr-fold-2-{i}.h5') for i in range(5)]\n",
        "    svr_20_paths = [os.path.join(svr_dir, f'svr-fold-20-{i}.h5') for i in range(5)]\n",
        "\n",
        "    if len(paths)==0:\n",
        "        print('no model found for :',base_dir)\n",
        "\n",
        "    MODEL_CONFIGS.append([dim, paths, svr_default_paths, svr_2_paths, svr_20_paths])\n",
        "\n",
        "print('='*35)\n",
        "print('### Inference')\n",
        "print('='*35)\n",
        "preds=[]\n",
        "preds_svr = []\n",
        "preds_svr_2 = []\n",
        "preds_svr_20 = []\n",
        "for dim, model_paths, svr_default_paths, svr_2_paths, svr_20_paths in tqdm(MODEL_CONFIGS):\n",
        "    test_paths = test_df.image_path.tolist()\n",
        "    dtest = get_dataset(test_paths, dim)\n",
        "\n",
        "    for model_path, svr_default_path, svr_2_path, svr_20_path in zip(model_paths, svr_default_paths, svr_2_paths, svr_20_paths):\n",
        "        print(f'Model: {model_path}')\n",
        "\n",
        "        with strategy.scope():\n",
        "            model = build_model()\n",
        "            model.load_weights(model_path)\n",
        "            # model = tf.keras.models.load_model(model_path, custom_objects={'KerasLayer': hub.KerasLayer})\n",
        "\n",
        "        print('Predicting...');\n",
        "        pred, features = model.predict(dtest, verbose=1)\n",
        "\n",
        "        # svr default\n",
        "        svr = joblib.load(svr_default_path)\n",
        "        pred_svr = np.expand_dims(svr.predict(features), 1)\n",
        "        # svr 2\n",
        "        svr = joblib.load(svr_2_path)\n",
        "        pred_svr_2 = np.expand_dims(svr.predict(features), 1)\n",
        "        # svr 20\n",
        "        svr = joblib.load(svr_20_path)\n",
        "        pred_svr_20 = np.expand_dims(svr.predict(features), 1)\n",
        "\n",
        "\n",
        "        pred = pred[:len(test_paths),:]\n",
        "        pred_svr = pred_svr[:len(test_paths), :]\n",
        "        pred_svr_2 = pred_svr_2[:len(test_paths), :]\n",
        "        pred_svr_20 = pred_svr_20[:len(test_paths), :]\n",
        "\n",
        "\n",
        "        preds.append(pred*100.0) # denormalizing from [0-1] to [0-100]\n",
        "        preds_svr.append(pred_svr) # denormalizing from [0-1] to [0-100]\n",
        "        preds_svr_2.append(pred_svr_2) # denormalizing from [0-1] to [0-100]\n",
        "        preds_svr_20.append(pred_svr_20) # denormalizing from [0-1] to [0-100]\n",
        "        print()\n",
        "\n",
        "preds_384_soft = np.mean(preds, axis=0)\n",
        "preds_384_soft_svr = np.mean(preds_svr, axis=0)\n",
        "preds_384_soft_svr_2 = np.mean(preds_svr_2, axis=0)\n",
        "preds_384_soft_svr_20 = np.mean(preds_svr_20, axis=0)"
      ]
    },
    {
      "cell_type": "code",
      "execution_count": null,
      "metadata": {
        "execution": {
          "iopub.execute_input": "2021-12-27T06:53:24.462416Z",
          "iopub.status.busy": "2021-12-27T06:53:24.462128Z",
          "iopub.status.idle": "2021-12-27T06:56:29.956655Z",
          "shell.execute_reply": "2021-12-27T06:56:29.955625Z",
          "shell.execute_reply.started": "2021-12-27T06:53:24.462388Z"
        },
        "id": "HuYz7NzsjyOq",
        "trusted": true
      },
      "outputs": [],
      "source": [
        "from glob import glob\n",
        "\n",
        "BASE_DIRS = [\n",
        "    (384, '/kaggle/input/petfinder-baseline-swt1k-174402-tfio', '/kaggle/input/petfinder-baseline-swt-174402-svr-all'),\n",
        "]\n",
        "\n",
        "MODEL_CONFIGS = []\n",
        "for dim, base_dir, svr_dir in  BASE_DIRS:\n",
        "    paths = sorted(glob(os.path.join(base_dir, '*h5')))\n",
        "    # svr_paths = sorted(glob(os.path.join(svr_dir, 'svr-fold*.h5')))\n",
        "    svr_default_paths = [os.path.join(svr_dir, f'svr-fold{i}.h5') for i in range(5)]\n",
        "    svr_2_paths = [os.path.join(svr_dir, f'svr-fold-2-{i}.h5') for i in range(5)]\n",
        "    svr_20_paths = [os.path.join(svr_dir, f'svr-fold-20-{i}.h5') for i in range(5)]\n",
        "\n",
        "    if len(paths)==0:\n",
        "        print('no model found for :',base_dir)\n",
        "\n",
        "    MODEL_CONFIGS.append([dim, paths, svr_default_paths, svr_2_paths, svr_20_paths])\n",
        "\n",
        "print('='*35)\n",
        "print('### Inference')\n",
        "print('='*35)\n",
        "preds=[]\n",
        "preds_svr = []\n",
        "preds_svr_2 = []\n",
        "preds_svr_20 = []\n",
        "for dim, model_paths, svr_default_paths, svr_2_paths, svr_20_paths in tqdm(MODEL_CONFIGS):\n",
        "    test_paths = test_df.image_path.tolist()\n",
        "    dtest = get_dataset(test_paths, dim)\n",
        "\n",
        "    for model_path, svr_default_path, svr_2_path, svr_20_path in zip(model_paths, svr_default_paths, svr_2_paths, svr_20_paths):\n",
        "        print(f'Model: {model_path}')\n",
        "\n",
        "        with strategy.scope():\n",
        "            model = build_model()\n",
        "            model.load_weights(model_path)\n",
        "            # model = tf.keras.models.load_model(model_path, custom_objects={'KerasLayer': hub.KerasLayer})\n",
        "\n",
        "        print('Predicting...');\n",
        "        pred, features = model.predict(dtest, verbose=1)\n",
        "\n",
        "        # svr default\n",
        "        svr = joblib.load(svr_default_path)\n",
        "        pred_svr = np.expand_dims(svr.predict(features), 1)\n",
        "        # svr 2\n",
        "        svr = joblib.load(svr_2_path)\n",
        "        pred_svr_2 = np.expand_dims(svr.predict(features), 1)\n",
        "        # svr 20\n",
        "        svr = joblib.load(svr_20_path)\n",
        "        pred_svr_20 = np.expand_dims(svr.predict(features), 1)\n",
        "\n",
        "\n",
        "        pred = pred[:len(test_paths),:]\n",
        "        pred_svr = pred_svr[:len(test_paths), :]\n",
        "        pred_svr_2 = pred_svr_2[:len(test_paths), :]\n",
        "        pred_svr_20 = pred_svr_20[:len(test_paths), :]\n",
        "\n",
        "\n",
        "        preds.append(pred*100.0) # denormalizing from [0-1] to [0-100]\n",
        "        preds_svr.append(pred_svr) # denormalizing from [0-1] to [0-100]\n",
        "        preds_svr_2.append(pred_svr_2) # denormalizing from [0-1] to [0-100]\n",
        "        preds_svr_20.append(pred_svr_20) # denormalizing from [0-1] to [0-100]\n",
        "        print()\n",
        "\n",
        "preds_384_1k = np.mean(preds, axis=0)\n",
        "preds_384_1k_svr = np.mean(preds_svr, axis=0)\n",
        "preds_384_1k_svr_2 = np.mean(preds_svr_2, axis=0)\n",
        "preds_384_1k_svr_20 = np.mean(preds_svr_20, axis=0)"
      ]
    },
    {
      "cell_type": "code",
      "execution_count": null,
      "metadata": {
        "execution": {
          "iopub.status.busy": "2021-12-27T06:52:12.277937Z",
          "iopub.status.idle": "2021-12-27T06:52:12.278375Z",
          "shell.execute_reply": "2021-12-27T06:52:12.278177Z",
          "shell.execute_reply.started": "2021-12-27T06:52:12.278147Z"
        },
        "id": "xDVp46y9jyOq",
        "trusted": true
      },
      "outputs": [],
      "source": [
        "\"\"\"\n",
        "from glob import glob\n",
        "\n",
        "BASE_DIRS = [\n",
        "    (384, '/kaggle/input/petfinder-baseline-swt1k-173756-soft', '/kaggle/input/petfinder-baseline-swt1k-173756-svr2'),\n",
        "]\n",
        "\n",
        "MODEL_CONFIGS = []\n",
        "for dim, base_dir, svr_dir in  BASE_DIRS:\n",
        "    paths = sorted(glob(os.path.join(base_dir, '*h5')))\n",
        "    svr_paths = sorted(glob(os.path.join(svr_dir, '*h5')))\n",
        "    if len(paths)==0:\n",
        "        print('no model found for :',base_dir)\n",
        "\n",
        "    MODEL_CONFIGS.append([dim, paths, svr_paths])\n",
        "\n",
        "print('='*35)\n",
        "print('### Inference')\n",
        "print('='*35)\n",
        "preds=[]\n",
        "preds_svr = []\n",
        "for dim, model_paths, svr_paths in tqdm(MODEL_CONFIGS):\n",
        "    test_paths = test_df.image_path.tolist()\n",
        "    dtest = get_dataset(test_paths, dim)\n",
        "\n",
        "    for model_path, svr_path in zip(model_paths, svr_paths):\n",
        "        print(f'Model: {model_path}')\n",
        "\n",
        "        with strategy.scope():\n",
        "            model = build_model()\n",
        "            model.load_weights(model_path)\n",
        "            # model = tf.keras.models.load_model(model_path, custom_objects={'KerasLayer': hub.KerasLayer})\n",
        "\n",
        "        print('Predicting...');\n",
        "        pred, features = model.predict(dtest, verbose=1)\n",
        "\n",
        "        svr = joblib.load(svr_path)\n",
        "        pred_svr = np.expand_dims(svr.predict(features), 1)\n",
        "\n",
        "        pred = pred[:len(test_paths),:]\n",
        "        pred_svr = pred_svr[:len(test_paths), :]\n",
        "\n",
        "        preds.append(pred*100.0) # denormalizing from [0-1] to [0-100]\n",
        "        preds_svr.append(pred_svr) # denormalizing from [0-1] to [0-100]\n",
        "        print()\n",
        "\n",
        "preds_384_1k_soft = np.mean(preds, axis=0)\n",
        "preds_384_1k_soft_svr = np.mean(preds_svr, axis=0)\n",
        "\"\"\""
      ]
    },
    {
      "cell_type": "code",
      "execution_count": null,
      "metadata": {
        "execution": {
          "iopub.execute_input": "2021-12-27T06:58:29.001833Z",
          "iopub.status.busy": "2021-12-27T06:58:29.001126Z",
          "iopub.status.idle": "2021-12-27T06:58:29.012103Z",
          "shell.execute_reply": "2021-12-27T06:58:29.010883Z",
          "shell.execute_reply.started": "2021-12-27T06:58:29.001787Z"
        },
        "id": "y7dgiFjYjyOq",
        "trusted": true
      },
      "outputs": [],
      "source": [
        "\"\"\"\n",
        "def build_model():\n",
        "    inp = tf.keras.layers.Input(shape=[384, 384, 3])\n",
        "    base = SwinTransformer('swin_base_384', include_top=False, pretrained=False, use_tpu=False)\n",
        "\n",
        "    features = base(inp)\n",
        "    x = tf.keras.layers.Dropout(0.3)(features)\n",
        "    x = tf.keras.layers.Dense(32, activation='relu')(x)\n",
        "    x = tf.keras.layers.Dropout(0.3)(x)\n",
        "    x = tf.keras.layers.Dense(1, activation='sigmoid')(x)\n",
        "    model = tf.keras.Model(inputs=inp, outputs=[x, features])\n",
        "\n",
        "    opt = tf.optimizers.Adam(learning_rate=1e-4)\n",
        "\n",
        "    model.compile(opt, loss=tf.keras.losses.BinaryCrossentropy())\n",
        "\n",
        "    return model\n",
        "\"\"\""
      ]
    },
    {
      "cell_type": "code",
      "execution_count": null,
      "metadata": {
        "execution": {
          "iopub.execute_input": "2021-12-27T06:58:29.015449Z",
          "iopub.status.busy": "2021-12-27T06:58:29.014873Z",
          "iopub.status.idle": "2021-12-27T07:01:02.461818Z",
          "shell.execute_reply": "2021-12-27T07:01:02.460618Z",
          "shell.execute_reply.started": "2021-12-27T06:58:29.015402Z"
        },
        "id": "FlRaSpdPjyOq",
        "trusted": true
      },
      "outputs": [],
      "source": [
        "\"\"\"\n",
        "from glob import glob\n",
        "\n",
        "BASE_DIRS = [\n",
        "    (384, '/kaggle/input/petfinder-baseline-swt-base384-175904-tfio', '/kaggle/input/petfinder-baseline-swt-base384-175904-svr2'),\n",
        "]\n",
        "\n",
        "MODEL_CONFIGS = []\n",
        "for dim, base_dir, svr_dir in  BASE_DIRS:\n",
        "    paths = sorted(glob(os.path.join(base_dir, '*h5')))\n",
        "    svr_paths = sorted(glob(os.path.join(svr_dir, '*h5')))\n",
        "    if len(paths)==0:\n",
        "        print('no model found for :',base_dir)\n",
        "\n",
        "    MODEL_CONFIGS.append([dim, paths, svr_paths])\n",
        "\n",
        "print('='*35)\n",
        "print('### Inference')\n",
        "print('='*35)\n",
        "preds=[]\n",
        "preds_svr = []\n",
        "for dim, model_paths, svr_paths in tqdm(MODEL_CONFIGS):\n",
        "    test_paths = test_df.image_path.tolist()\n",
        "    dtest = get_dataset(test_paths, dim)\n",
        "\n",
        "    for model_path, svr_path in zip(model_paths, svr_paths):\n",
        "        print(f'Model: {model_path}')\n",
        "\n",
        "        with strategy.scope():\n",
        "            model = build_model()\n",
        "            model.load_weights(model_path)\n",
        "            # model = tf.keras.models.load_model(model_path, custom_objects={'KerasLayer': hub.KerasLayer})\n",
        "\n",
        "        print('Predicting...');\n",
        "        pred, features = model.predict(dtest, verbose=1)\n",
        "\n",
        "        svr = joblib.load(svr_path)\n",
        "        pred_svr = np.expand_dims(svr.predict(features), 1)\n",
        "\n",
        "        pred = pred[:len(test_paths),:]\n",
        "        pred_svr = pred_svr[:len(test_paths), :]\n",
        "\n",
        "        preds.append(pred*100.0) # denormalizing from [0-1] to [0-100]\n",
        "        preds_svr.append(pred_svr) # denormalizing from [0-1] to [0-100]\n",
        "        print()\n",
        "\n",
        "preds_384_base = np.mean(preds, axis=0)\n",
        "preds_384_base_svr = np.mean(preds_svr, axis=0)\n",
        "\"\"\""
      ]
    },
    {
      "cell_type": "code",
      "execution_count": null,
      "metadata": {
        "execution": {
          "iopub.execute_input": "2021-12-27T07:01:02.464949Z",
          "iopub.status.busy": "2021-12-27T07:01:02.463817Z",
          "iopub.status.idle": "2021-12-27T07:01:02.476337Z",
          "shell.execute_reply": "2021-12-27T07:01:02.475041Z",
          "shell.execute_reply.started": "2021-12-27T07:01:02.4649Z"
        },
        "id": "sk_36Q_WjyOr",
        "trusted": true
      },
      "outputs": [],
      "source": [
        "\"\"\"\n",
        "from glob import glob\n",
        "\n",
        "BASE_DIRS = [\n",
        "    (384, '/kaggle/input/petfinder-baseline-swt-base384-175108-soft', '/kaggle/input/petfinder-baseline-swt-base384-175108-svr2'),\n",
        "]\n",
        "\n",
        "MODEL_CONFIGS = []\n",
        "for dim, base_dir, svr_dir in  BASE_DIRS:\n",
        "    paths = sorted(glob(os.path.join(base_dir, '*h5')))\n",
        "    svr_paths = sorted(glob(os.path.join(svr_dir, '*h5')))\n",
        "    if len(paths)==0:\n",
        "        print('no model found for :',base_dir)\n",
        "\n",
        "    MODEL_CONFIGS.append([dim, paths, svr_paths])\n",
        "\n",
        "print('='*35)\n",
        "print('### Inference')\n",
        "print('='*35)\n",
        "preds=[]\n",
        "preds_svr = []\n",
        "for dim, model_paths, svr_paths in tqdm(MODEL_CONFIGS):\n",
        "    test_paths = test_df.image_path.tolist()\n",
        "    dtest = get_dataset(test_paths, dim)\n",
        "\n",
        "    for model_path, svr_path in zip(model_paths, svr_paths):\n",
        "        print(f'Model: {model_path}')\n",
        "\n",
        "        with strategy.scope():\n",
        "            model = build_model()\n",
        "            model.load_weights(model_path)\n",
        "            # model = tf.keras.models.load_model(model_path, custom_objects={'KerasLayer': hub.KerasLayer})\n",
        "\n",
        "        print('Predicting...');\n",
        "        pred, features = model.predict(dtest, verbose=1)\n",
        "\n",
        "        svr = joblib.load(svr_path)\n",
        "        pred_svr = np.expand_dims(svr.predict(features), 1)\n",
        "\n",
        "        pred = pred[:len(test_paths),:]\n",
        "        pred_svr = pred_svr[:len(test_paths), :]\n",
        "\n",
        "        preds.append(pred*100.0) # denormalizing from [0-1] to [0-100]\n",
        "        preds_svr.append(pred_svr) # denormalizing from [0-1] to [0-100]\n",
        "        print()\n",
        "\n",
        "preds_384_base_soft = np.mean(preds, axis=0)\n",
        "preds_384_base_soft_svr = np.mean(preds_svr, axis=0)\n",
        "\"\"\""
      ]
    },
    {
      "cell_type": "code",
      "execution_count": null,
      "metadata": {
        "execution": {
          "iopub.execute_input": "2021-12-27T07:01:02.479439Z",
          "iopub.status.busy": "2021-12-27T07:01:02.478307Z",
          "iopub.status.idle": "2021-12-27T07:01:02.493254Z",
          "shell.execute_reply": "2021-12-27T07:01:02.492108Z",
          "shell.execute_reply.started": "2021-12-27T07:01:02.479392Z"
        },
        "id": "uio6hqrojyOr",
        "trusted": true
      },
      "outputs": [],
      "source": [
        "def build_model():\n",
        "    inp = tf.keras.layers.Input(shape=[224, 224, 3])\n",
        "    base = SwinTransformer('swin_large_224', include_top=False, pretrained=False, use_tpu=False)\n",
        "    features = base(inp)\n",
        "    x = tf.keras.layers.Dropout(0.3)(features)\n",
        "    x = tf.keras.layers.Dense(32, activation='relu')(x)\n",
        "    x = tf.keras.layers.Dropout(0.3)(x)\n",
        "    x = tf.keras.layers.Dense(1, activation='sigmoid')(x)\n",
        "    model = tf.keras.Model(inputs=inp, outputs=[x, features])\n",
        "\n",
        "    opt = tf.optimizers.Adam(learning_rate=1e-4)\n",
        "\n",
        "    model.compile(opt, loss=tf.keras.losses.BinaryCrossentropy())\n",
        "\n",
        "    return model"
      ]
    },
    {
      "cell_type": "code",
      "execution_count": null,
      "metadata": {
        "execution": {
          "iopub.execute_input": "2021-12-27T07:01:02.497772Z",
          "iopub.status.busy": "2021-12-27T07:01:02.497307Z",
          "iopub.status.idle": "2021-12-27T07:03:59.941111Z",
          "shell.execute_reply": "2021-12-27T07:03:59.939884Z",
          "shell.execute_reply.started": "2021-12-27T07:01:02.497694Z"
        },
        "id": "GQ0RW9l5jyOr",
        "trusted": true
      },
      "outputs": [],
      "source": [
        "from glob import glob\n",
        "\n",
        "BASE_DIRS = [\n",
        "    (224, '/kaggle/input/petfinder-baseline-swt224-175702-tfio', '/kaggle/input/petfinder-baseline-swt224-175702-svr-all'),\n",
        "]\n",
        "\n",
        "MODEL_CONFIGS = []\n",
        "for dim, base_dir, svr_dir in  BASE_DIRS:\n",
        "    paths = sorted(glob(os.path.join(base_dir, '*h5')))\n",
        "    # svr_paths = sorted(glob(os.path.join(svr_dir, 'svr-fold*.h5')))\n",
        "    svr_default_paths = [os.path.join(svr_dir, f'svr-fold{i}.h5') for i in range(5)]\n",
        "    svr_2_paths = [os.path.join(svr_dir, f'svr-fold-2-{i}.h5') for i in range(5)]\n",
        "    svr_20_paths = [os.path.join(svr_dir, f'svr-fold-20-{i}.h5') for i in range(5)]\n",
        "\n",
        "    if len(paths)==0:\n",
        "        print('no model found for :',base_dir)\n",
        "\n",
        "    MODEL_CONFIGS.append([dim, paths, svr_default_paths, svr_2_paths, svr_20_paths])\n",
        "\n",
        "print('='*35)\n",
        "print('### Inference')\n",
        "print('='*35)\n",
        "preds=[]\n",
        "preds_svr = []\n",
        "preds_svr_2 = []\n",
        "preds_svr_20 = []\n",
        "for dim, model_paths, svr_default_paths, svr_2_paths, svr_20_paths in tqdm(MODEL_CONFIGS):\n",
        "    test_paths = test_df.image_path.tolist()\n",
        "    dtest = get_dataset(test_paths, dim)\n",
        "\n",
        "    for model_path, svr_default_path, svr_2_path, svr_20_path in zip(model_paths, svr_default_paths, svr_2_paths, svr_20_paths):\n",
        "        print(f'Model: {model_path}')\n",
        "\n",
        "        with strategy.scope():\n",
        "            model = build_model()\n",
        "            model.load_weights(model_path)\n",
        "            # model = tf.keras.models.load_model(model_path, custom_objects={'KerasLayer': hub.KerasLayer})\n",
        "\n",
        "        print('Predicting...');\n",
        "        pred, features = model.predict(dtest, verbose=1)\n",
        "\n",
        "        # svr default\n",
        "        svr = joblib.load(svr_default_path)\n",
        "        pred_svr = np.expand_dims(svr.predict(features), 1)\n",
        "        # svr 2\n",
        "        svr = joblib.load(svr_2_path)\n",
        "        pred_svr_2 = np.expand_dims(svr.predict(features), 1)\n",
        "        # svr 20\n",
        "        svr = joblib.load(svr_20_path)\n",
        "        pred_svr_20 = np.expand_dims(svr.predict(features), 1)\n",
        "\n",
        "\n",
        "        pred = pred[:len(test_paths),:]\n",
        "        pred_svr = pred_svr[:len(test_paths), :]\n",
        "        pred_svr_2 = pred_svr_2[:len(test_paths), :]\n",
        "        pred_svr_20 = pred_svr_20[:len(test_paths), :]\n",
        "\n",
        "\n",
        "        preds.append(pred*100.0) # denormalizing from [0-1] to [0-100]\n",
        "        preds_svr.append(pred_svr) # denormalizing from [0-1] to [0-100]\n",
        "        preds_svr_2.append(pred_svr_2) # denormalizing from [0-1] to [0-100]\n",
        "        preds_svr_20.append(pred_svr_20) # denormalizing from [0-1] to [0-100]\n",
        "        print()\n",
        "\n",
        "preds_224 = np.mean(preds, axis=0)\n",
        "preds_224_svr = np.mean(preds_svr, axis=0)\n",
        "preds_224_svr_2 = np.mean(preds_svr_2, axis=0)\n",
        "preds_224_svr_20 = np.mean(preds_svr_20, axis=0)"
      ]
    },
    {
      "cell_type": "code",
      "execution_count": null,
      "metadata": {
        "execution": {
          "iopub.execute_input": "2021-12-27T07:03:59.944741Z",
          "iopub.status.busy": "2021-12-27T07:03:59.943854Z",
          "iopub.status.idle": "2021-12-27T07:03:59.965615Z",
          "shell.execute_reply": "2021-12-27T07:03:59.964437Z",
          "shell.execute_reply.started": "2021-12-27T07:03:59.944664Z"
        },
        "id": "uz8c-YcCjyOr",
        "trusted": true
      },
      "outputs": [],
      "source": [
        "\"\"\"\n",
        "from glob import glob\n",
        "\n",
        "BASE_DIRS = [\n",
        "    (224, '/kaggle/input/petfinder-baseline-swt224-174820-soft', '/kaggle/input/petfinder-baseline-swt224-174820-svr2'),\n",
        "]\n",
        "\n",
        "MODEL_CONFIGS = []\n",
        "for dim, base_dir, svr_dir in  BASE_DIRS:\n",
        "    paths = sorted(glob(os.path.join(base_dir, '*h5')))\n",
        "    svr_paths = sorted(glob(os.path.join(svr_dir, '*h5')))\n",
        "    if len(paths)==0:\n",
        "        print('no model found for :',base_dir)\n",
        "\n",
        "    MODEL_CONFIGS.append([dim, paths, svr_paths])\n",
        "\n",
        "print('='*35)\n",
        "print('### Inference')\n",
        "print('='*35)\n",
        "preds=[]\n",
        "preds_svr = []\n",
        "for dim, model_paths, svr_paths in tqdm(MODEL_CONFIGS):\n",
        "    test_paths = test_df.image_path.tolist()\n",
        "    dtest = get_dataset(test_paths, dim)\n",
        "\n",
        "    for model_path, svr_path in zip(model_paths, svr_paths):\n",
        "        print(f'Model: {model_path}')\n",
        "\n",
        "        with strategy.scope():\n",
        "            model = build_model()\n",
        "            model.load_weights(model_path)\n",
        "            # model = tf.keras.models.load_model(model_path, custom_objects={'KerasLayer': hub.KerasLayer})\n",
        "\n",
        "        print('Predicting...');\n",
        "        pred, features = model.predict(dtest, verbose=1)\n",
        "\n",
        "        svr = joblib.load(svr_path)\n",
        "        pred_svr = np.expand_dims(svr.predict(features), 1)\n",
        "\n",
        "        pred = pred[:len(test_paths),:]\n",
        "        pred_svr = pred_svr[:len(test_paths), :]\n",
        "\n",
        "        preds.append(pred*100.0) # denormalizing from [0-1] to [0-100]\n",
        "        preds_svr.append(pred_svr) # denormalizing from [0-1] to [0-100]\n",
        "        print()\n",
        "\n",
        "preds_224_soft = np.mean(preds, axis=0)\n",
        "preds_224_soft_svr = np.mean(preds_svr, axis=0)\n",
        "\"\"\""
      ]
    },
    {
      "cell_type": "code",
      "execution_count": null,
      "metadata": {
        "execution": {
          "iopub.execute_input": "2021-12-27T07:03:59.968215Z",
          "iopub.status.busy": "2021-12-27T07:03:59.96752Z",
          "iopub.status.idle": "2021-12-27T07:03:59.979943Z",
          "shell.execute_reply": "2021-12-27T07:03:59.97842Z",
          "shell.execute_reply.started": "2021-12-27T07:03:59.968066Z"
        },
        "id": "zZBRdPZHjyOr",
        "trusted": true
      },
      "outputs": [],
      "source": [
        "def parse_func(filename, image_size):\n",
        "    img = tf.io.read_file(filename)\n",
        "    img = tf.image.decode_jpeg(img, channels=3)\n",
        "    img = tf.keras.preprocessing.image.smart_resize(img, [image_size, image_size], interpolation='bilinear')\n",
        "\n",
        "    img = tf.cast(img, tf.float32)\n",
        "    img = vit.preprocess_inputs(img)\n",
        "\n",
        "    img = tf.reshape(img, [image_size, image_size, 3])\n",
        "    return img\n",
        "\n",
        "\n",
        "def get_dataset(files, image_size, batch_size=BATCH_SIZE, aug=False):\n",
        "\n",
        "    # ds = tf.data.TFRecordDataset(files, num_parallel_reads=AUTO)\n",
        "    ds = tf.data.Dataset.from_tensor_slices(files)\n",
        "    ds = ds.cache()\n",
        "\n",
        "    ds = ds.map(lambda x: parse_func(x, image_size), num_parallel_calls=AUTO)\n",
        "\n",
        "    \"\"\"\n",
        "    if aug:\n",
        "        ds = ds.map(augment, num_parallel_calls=AUTO)\n",
        "    \"\"\"\n",
        "\n",
        "    ds = ds.batch(batch_size)\n",
        "    ds = ds.prefetch(AUTO)\n",
        "    return ds"
      ]
    },
    {
      "cell_type": "code",
      "execution_count": null,
      "metadata": {
        "execution": {
          "iopub.execute_input": "2021-12-27T07:03:59.983486Z",
          "iopub.status.busy": "2021-12-27T07:03:59.98249Z",
          "iopub.status.idle": "2021-12-27T07:03:59.996821Z",
          "shell.execute_reply": "2021-12-27T07:03:59.995112Z",
          "shell.execute_reply.started": "2021-12-27T07:03:59.983441Z"
        },
        "id": "wxtpHwhsjyOr",
        "trusted": true
      },
      "outputs": [],
      "source": [
        "def build_model():\n",
        "    inp = tf.keras.layers.Input(shape=[384, 384, 3])\n",
        "    base = getattr(vit, 'vit_l16')(image_size=384, include_top=False, pretrained_top=False, pretrained=False, weights='imagenet21k+imagenet2012')\n",
        "    features = base(inp)\n",
        "    x = tf.keras.layers.Dropout(0.3)(features)\n",
        "    x = tf.keras.layers.Dense(32, activation='relu')(x)\n",
        "    x = tf.keras.layers.Dropout(0.3)(x)\n",
        "    x = tf.keras.layers.Dense(1, activation='sigmoid')(x)\n",
        "    model = tf.keras.Model(inputs=inp, outputs=[x, features])\n",
        "\n",
        "    opt = tf.optimizers.Adam(learning_rate=1e-4)\n",
        "\n",
        "    model.compile(opt, loss=tf.keras.losses.BinaryCrossentropy())\n",
        "\n",
        "    return model"
      ]
    },
    {
      "cell_type": "code",
      "execution_count": null,
      "metadata": {
        "execution": {
          "iopub.execute_input": "2021-12-27T07:03:59.999373Z",
          "iopub.status.busy": "2021-12-27T07:03:59.998862Z",
          "iopub.status.idle": "2021-12-27T07:06:42.000726Z",
          "shell.execute_reply": "2021-12-27T07:06:41.999619Z",
          "shell.execute_reply.started": "2021-12-27T07:03:59.99931Z"
        },
        "id": "Xll-CA_6jyOw",
        "trusted": true
      },
      "outputs": [],
      "source": [
        "from glob import glob\n",
        "\n",
        "BASE_DIRS = [\n",
        "    (384, '/kaggle/input/petfinder-baseline-vit-176180-tfio', '/kaggle/input/petfinder-baseline-swt-176180-svr-all'),\n",
        "]\n",
        "\n",
        "MODEL_CONFIGS = []\n",
        "for dim, base_dir, svr_dir in  BASE_DIRS:\n",
        "    paths = sorted(glob(os.path.join(base_dir, '*h5')))\n",
        "    # svr_paths = sorted(glob(os.path.join(svr_dir, 'svr-fold*.h5')))\n",
        "    svr_default_paths = [os.path.join(svr_dir, f'svr-fold{i}.h5') for i in range(5)]\n",
        "    svr_2_paths = [os.path.join(svr_dir, f'svr-fold-2-{i}.h5') for i in range(5)]\n",
        "    svr_20_paths = [os.path.join(svr_dir, f'svr-fold-20-{i}.h5') for i in range(5)]\n",
        "\n",
        "    if len(paths)==0:\n",
        "        print('no model found for :',base_dir)\n",
        "\n",
        "    MODEL_CONFIGS.append([dim, paths, svr_default_paths, svr_2_paths, svr_20_paths])\n",
        "\n",
        "print('='*35)\n",
        "print('### Inference')\n",
        "print('='*35)\n",
        "preds=[]\n",
        "preds_svr = []\n",
        "preds_svr_2 = []\n",
        "preds_svr_20 = []\n",
        "for dim, model_paths, svr_default_paths, svr_2_paths, svr_20_paths in tqdm(MODEL_CONFIGS):\n",
        "    test_paths = test_df.image_path.tolist()\n",
        "    dtest = get_dataset(test_paths, dim)\n",
        "\n",
        "    for model_path, svr_default_path, svr_2_path, svr_20_path in zip(model_paths, svr_default_paths, svr_2_paths, svr_20_paths):\n",
        "        print(f'Model: {model_path}')\n",
        "\n",
        "        with strategy.scope():\n",
        "            model = build_model()\n",
        "            model.load_weights(model_path)\n",
        "            # model = tf.keras.models.load_model(model_path, custom_objects={'KerasLayer': hub.KerasLayer})\n",
        "\n",
        "        print('Predicting...');\n",
        "        pred, features = model.predict(dtest, verbose=1)\n",
        "\n",
        "        # svr default\n",
        "        svr = joblib.load(svr_default_path)\n",
        "        pred_svr = np.expand_dims(svr.predict(features), 1)\n",
        "        # svr 2\n",
        "        svr = joblib.load(svr_2_path)\n",
        "        pred_svr_2 = np.expand_dims(svr.predict(features), 1)\n",
        "        # svr 20\n",
        "        svr = joblib.load(svr_20_path)\n",
        "        pred_svr_20 = np.expand_dims(svr.predict(features), 1)\n",
        "\n",
        "\n",
        "        pred = pred[:len(test_paths),:]\n",
        "        pred_svr = pred_svr[:len(test_paths), :]\n",
        "        pred_svr_2 = pred_svr_2[:len(test_paths), :]\n",
        "        pred_svr_20 = pred_svr_20[:len(test_paths), :]\n",
        "\n",
        "\n",
        "        preds.append(pred*100.0) # denormalizing from [0-1] to [0-100]\n",
        "        preds_svr.append(pred_svr) # denormalizing from [0-1] to [0-100]\n",
        "        preds_svr_2.append(pred_svr_2) # denormalizing from [0-1] to [0-100]\n",
        "        preds_svr_20.append(pred_svr_20) # denormalizing from [0-1] to [0-100]\n",
        "        print()\n",
        "\n",
        "preds_vit_384 = np.mean(preds, axis=0)\n",
        "preds_vit_384_svr = np.mean(preds_svr, axis=0)\n",
        "preds_vit_384_svr_2 = np.mean(preds_svr_2, axis=0)\n",
        "preds_vit_384_svr_20 = np.mean(preds_svr_20, axis=0)"
      ]
    },
    {
      "cell_type": "code",
      "execution_count": null,
      "metadata": {
        "execution": {
          "iopub.execute_input": "2021-12-27T07:06:42.003764Z",
          "iopub.status.busy": "2021-12-27T07:06:42.00277Z",
          "iopub.status.idle": "2021-12-27T07:06:42.014864Z",
          "shell.execute_reply": "2021-12-27T07:06:42.013433Z",
          "shell.execute_reply.started": "2021-12-27T07:06:42.003703Z"
        },
        "id": "aHACRJfyjyOw",
        "trusted": true
      },
      "outputs": [],
      "source": [
        "\"\"\"\n",
        "from glob import glob\n",
        "\n",
        "BASE_DIRS = [\n",
        "    (384, '/kaggle/input/petfinder-baseline-vit-175046-soft', '/kaggle/input/petfinder-baseline-vit-175046-svr2'),\n",
        "]\n",
        "\n",
        "MODEL_CONFIGS = []\n",
        "for dim, base_dir, svr_dir in  BASE_DIRS:\n",
        "    paths = sorted(glob(os.path.join(base_dir, '*h5')))\n",
        "    svr_paths = sorted(glob(os.path.join(svr_dir, '*h5')))\n",
        "    if len(paths)==0:\n",
        "        print('no model found for :',base_dir)\n",
        "\n",
        "    MODEL_CONFIGS.append([dim, paths, svr_paths])\n",
        "\n",
        "print('='*35)\n",
        "print('### Inference')\n",
        "print('='*35)\n",
        "preds=[]\n",
        "preds_svr = []\n",
        "for dim, model_paths, svr_paths in tqdm(MODEL_CONFIGS):\n",
        "    test_paths = test_df.image_path.tolist()\n",
        "    dtest = get_dataset(test_paths, dim)\n",
        "\n",
        "    for model_path, svr_path in zip(model_paths, svr_paths):\n",
        "        print(f'Model: {model_path}')\n",
        "\n",
        "        with strategy.scope():\n",
        "            model = build_model()\n",
        "            model.load_weights(model_path)\n",
        "            # model = tf.keras.models.load_model(model_path, custom_objects={'KerasLayer': hub.KerasLayer})\n",
        "\n",
        "        print('Predicting...');\n",
        "        pred, features = model.predict(dtest, verbose=1)\n",
        "\n",
        "        svr = joblib.load(svr_path)\n",
        "        pred_svr = np.expand_dims(svr.predict(features), 1)\n",
        "\n",
        "        pred = pred[:len(test_paths),:]\n",
        "        pred_svr = pred_svr[:len(test_paths), :]\n",
        "\n",
        "        preds.append(pred*100.0) # denormalizing from [0-1] to [0-100]\n",
        "        preds_svr.append(pred_svr) # denormalizing from [0-1] to [0-100]\n",
        "        print()\n",
        "\n",
        "preds_vit_384_soft = np.mean(preds, axis=0)\n",
        "preds_vit_384_soft_svr = np.mean(preds_svr, axis=0)\n",
        "\"\"\""
      ]
    },
    {
      "cell_type": "code",
      "execution_count": null,
      "metadata": {
        "execution": {
          "iopub.execute_input": "2021-12-27T07:06:42.018054Z",
          "iopub.status.busy": "2021-12-27T07:06:42.017057Z",
          "iopub.status.idle": "2021-12-27T07:06:42.035388Z",
          "shell.execute_reply": "2021-12-27T07:06:42.033872Z",
          "shell.execute_reply.started": "2021-12-27T07:06:42.017964Z"
        },
        "id": "c1Ayr_OGjyOw",
        "trusted": true
      },
      "outputs": [],
      "source": [
        "# test_df = pd.read_csv('../input/petfinder-pawpularity-score/test.csv')\n",
        "columns = ['Subject Focus', 'Eyes', 'Face', 'Near', 'Action', 'Accessory', 'Group', 'Collage', 'Human', 'Occlusion', 'Info', 'Blur']\n",
        "\n",
        "features = np.stack([\n",
        "    np.squeeze(preds_384),\n",
        "    np.squeeze(preds_384_svr),\n",
        "    np.squeeze(preds_384_svr_2),\n",
        "    np.squeeze(preds_384_svr_20),\n",
        "\n",
        "    np.squeeze(preds_384_soft),\n",
        "    np.squeeze(preds_384_soft_svr),\n",
        "    np.squeeze(preds_384_soft_svr_2),\n",
        "    np.squeeze(preds_384_soft_svr_20),\n",
        "\n",
        "    np.squeeze(preds_384_1k),\n",
        "    np.squeeze(preds_384_1k_svr),\n",
        "    np.squeeze(preds_384_1k_svr_2),\n",
        "    np.squeeze(preds_384_1k_svr_20),\n",
        "\n",
        "    # np.squeeze(preds_384_1k_soft),\n",
        "    # np.squeeze(preds_384_1k_soft_svr),\n",
        "\n",
        "    np.squeeze(preds_224),\n",
        "    np.squeeze(preds_224_svr),\n",
        "    np.squeeze(preds_224_svr_2),\n",
        "    np.squeeze(preds_224_svr_20),\n",
        "\n",
        "    # np.squeeze(preds_224_soft),\n",
        "    # np.squeeze(preds_224_soft_svr),\n",
        "\n",
        "    # np.squeeze(preds_384_base),\n",
        "    # np.squeeze(preds_384_base_svr),\n",
        "\n",
        "    # np.squeeze(preds_384_base_soft),\n",
        "    # np.squeeze(preds_384_base_soft_svr),\n",
        "\n",
        "    np.squeeze(preds_vit_384),\n",
        "    np.squeeze(preds_vit_384_svr),\n",
        "    np.squeeze(preds_vit_384_svr_2),\n",
        "    np.squeeze(preds_vit_384_svr_20),\n",
        "\n",
        "    # np.squeeze(preds_vit_384_soft),\n",
        "    # np.squeeze(preds_vit_384_soft_svr),\n",
        "\n",
        "    np.squeeze(preds_cait_384),\n",
        "    np.squeeze(preds_cait_448),\n",
        "\n",
        "    ], axis=1)\n",
        "\n",
        "features = np.concatenate([features, test_df[columns].values], axis=1)\n"
      ]
    },
    {
      "cell_type": "code",
      "execution_count": null,
      "metadata": {
        "execution": {
          "iopub.execute_input": "2021-12-27T07:06:42.038225Z",
          "iopub.status.busy": "2021-12-27T07:06:42.037544Z",
          "iopub.status.idle": "2021-12-27T07:06:42.062395Z",
          "shell.execute_reply": "2021-12-27T07:06:42.061351Z",
          "shell.execute_reply.started": "2021-12-27T07:06:42.03803Z"
        },
        "id": "2hOrFc8GjyOw",
        "trusted": true
      },
      "outputs": [],
      "source": [
        "lr_head = joblib.load('../input/petfinder-final-lr-170275/final-lr-170275.h5')\n",
        "preds = lr_head.predict(features)"
      ]
    },
    {
      "cell_type": "code",
      "execution_count": null,
      "metadata": {
        "execution": {
          "iopub.execute_input": "2021-12-27T07:06:42.065167Z",
          "iopub.status.busy": "2021-12-27T07:06:42.06399Z",
          "iopub.status.idle": "2021-12-27T07:06:42.110349Z",
          "shell.execute_reply": "2021-12-27T07:06:42.10913Z",
          "shell.execute_reply.started": "2021-12-27T07:06:42.065105Z"
        },
        "id": "kZBoHyLvjyOw",
        "trusted": true
      },
      "outputs": [],
      "source": [
        "pred_df = pd.DataFrame({'Id':test_df.Id,\n",
        "                        'Pawpularity':preds.reshape(-1)})\n",
        "sub_df = pd.read_csv('/kaggle/input/petfinder-pawpularity-score/sample_submission.csv')\n",
        "del sub_df['Pawpularity']\n",
        "sub_df = sub_df.merge(pred_df, on='Id', how='left')\n",
        "sub_df.to_csv('submission.csv',index=False)\n",
        "sub_df.head()"
      ]
    }
  ],
  "metadata": {
    "colab": {
      "provenance": []
    },
    "kaggle": {
      "accelerator": "gpu",
      "dataSources": [
        {
          "databundleVersionId": 2684322,
          "sourceId": 25383,
          "sourceType": "competition"
        },
        {
          "datasetId": 1433131,
          "sourceId": 2371939,
          "sourceType": "datasetVersion"
        },
        {
          "datasetId": 1433159,
          "sourceId": 2371984,
          "sourceType": "datasetVersion"
        },
        {
          "datasetId": 1404099,
          "sourceId": 2580782,
          "sourceType": "datasetVersion"
        },
        {
          "datasetId": 1674602,
          "sourceId": 2746554,
          "sourceType": "datasetVersion"
        },
        {
          "datasetId": 1718753,
          "sourceId": 2811727,
          "sourceType": "datasetVersion"
        },
        {
          "datasetId": 1719753,
          "sourceId": 2813243,
          "sourceType": "datasetVersion"
        },
        {
          "datasetId": 1721606,
          "sourceId": 2817783,
          "sourceType": "datasetVersion"
        },
        {
          "datasetId": 1735184,
          "sourceId": 2836179,
          "sourceType": "datasetVersion"
        },
        {
          "datasetId": 1737344,
          "sourceId": 2839320,
          "sourceType": "datasetVersion"
        },
        {
          "datasetId": 1739548,
          "sourceId": 2842657,
          "sourceType": "datasetVersion"
        },
        {
          "datasetId": 1777318,
          "sourceId": 2900312,
          "sourceType": "datasetVersion"
        },
        {
          "datasetId": 1779299,
          "sourceId": 2903216,
          "sourceType": "datasetVersion"
        },
        {
          "datasetId": 1803714,
          "sourceId": 2942035,
          "sourceType": "datasetVersion"
        },
        {
          "datasetId": 1803826,
          "sourceId": 2942208,
          "sourceType": "datasetVersion"
        },
        {
          "datasetId": 1807117,
          "sourceId": 2947544,
          "sourceType": "datasetVersion"
        },
        {
          "datasetId": 1807232,
          "sourceId": 2947758,
          "sourceType": "datasetVersion"
        },
        {
          "datasetId": 1807245,
          "sourceId": 2947775,
          "sourceType": "datasetVersion"
        },
        {
          "datasetId": 1807254,
          "sourceId": 2947789,
          "sourceType": "datasetVersion"
        },
        {
          "datasetId": 1803765,
          "sourceId": 2947862,
          "sourceType": "datasetVersion"
        },
        {
          "datasetId": 1807357,
          "sourceId": 2947963,
          "sourceType": "datasetVersion"
        },
        {
          "datasetId": 1807421,
          "sourceId": 2948084,
          "sourceType": "datasetVersion"
        },
        {
          "datasetId": 1812055,
          "sourceId": 2955532,
          "sourceType": "datasetVersion"
        },
        {
          "datasetId": 1812126,
          "sourceId": 2955659,
          "sourceType": "datasetVersion"
        },
        {
          "datasetId": 1812452,
          "sourceId": 2956195,
          "sourceType": "datasetVersion"
        },
        {
          "datasetId": 1812536,
          "sourceId": 2956315,
          "sourceType": "datasetVersion"
        },
        {
          "datasetId": 1813214,
          "sourceId": 2957425,
          "sourceType": "datasetVersion"
        },
        {
          "datasetId": 1816036,
          "sourceId": 2962014,
          "sourceType": "datasetVersion"
        },
        {
          "datasetId": 1816059,
          "sourceId": 2962058,
          "sourceType": "datasetVersion"
        },
        {
          "datasetId": 1816935,
          "sourceId": 2963498,
          "sourceType": "datasetVersion"
        },
        {
          "datasetId": 1818301,
          "sourceId": 2965701,
          "sourceType": "datasetVersion"
        },
        {
          "datasetId": 1822672,
          "sourceId": 2973362,
          "sourceType": "datasetVersion"
        },
        {
          "datasetId": 1822693,
          "sourceId": 2973396,
          "sourceType": "datasetVersion"
        },
        {
          "datasetId": 1822755,
          "sourceId": 2973482,
          "sourceType": "datasetVersion"
        },
        {
          "datasetId": 1822905,
          "sourceId": 2973724,
          "sourceType": "datasetVersion"
        },
        {
          "datasetId": 1822940,
          "sourceId": 2973790,
          "sourceType": "datasetVersion"
        },
        {
          "datasetId": 1824017,
          "sourceId": 2975481,
          "sourceType": "datasetVersion"
        },
        {
          "datasetId": 1825029,
          "sourceId": 2977148,
          "sourceType": "datasetVersion"
        },
        {
          "datasetId": 1825097,
          "sourceId": 2977280,
          "sourceType": "datasetVersion"
        },
        {
          "datasetId": 1687342,
          "sourceId": 2988785,
          "sourceType": "datasetVersion"
        },
        {
          "datasetId": 1027206,
          "sourceId": 3951115,
          "sourceType": "datasetVersion"
        }
      ],
      "dockerImageVersionId": 30140,
      "isGpuEnabled": true,
      "isInternetEnabled": false,
      "language": "python",
      "sourceType": "notebook"
    },
    "kernelspec": {
      "display_name": "EE6550_ML",
      "language": "python",
      "name": "python3"
    },
    "language_info": {
      "codemirror_mode": {
        "name": "ipython",
        "version": 3
      },
      "file_extension": ".py",
      "mimetype": "text/x-python",
      "name": "python",
      "nbconvert_exporter": "python",
      "pygments_lexer": "ipython3",
      "version": "3.8.20"
    },
    "widgets": {
      "application/vnd.jupyter.widget-state+json": {
        "0655a89cfb064def9df95786ef01eb50": {
          "model_module": "@jupyter-widgets/controls",
          "model_module_version": "1.5.0",
          "model_name": "PasswordModel",
          "state": {
            "_dom_classes": [],
            "_model_module": "@jupyter-widgets/controls",
            "_model_module_version": "1.5.0",
            "_model_name": "PasswordModel",
            "_view_count": null,
            "_view_module": "@jupyter-widgets/controls",
            "_view_module_version": "1.5.0",
            "_view_name": "PasswordView",
            "continuous_update": true,
            "description": "Token:",
            "description_tooltip": null,
            "disabled": false,
            "layout": "IPY_MODEL_91c2e27988ad486693547c2e0fe1e8a9",
            "placeholder": "​",
            "style": "IPY_MODEL_1fbcfc373c61459da88a44af69a16243",
            "value": ""
          }
        },
        "068dfba94bdd4171a799c446eeffd085": {
          "model_module": "@jupyter-widgets/base",
          "model_module_version": "1.2.0",
          "model_name": "LayoutModel",
          "state": {
            "_model_module": "@jupyter-widgets/base",
            "_model_module_version": "1.2.0",
            "_model_name": "LayoutModel",
            "_view_count": null,
            "_view_module": "@jupyter-widgets/base",
            "_view_module_version": "1.2.0",
            "_view_name": "LayoutView",
            "align_content": null,
            "align_items": null,
            "align_self": null,
            "border": null,
            "bottom": null,
            "display": null,
            "flex": null,
            "flex_flow": null,
            "grid_area": null,
            "grid_auto_columns": null,
            "grid_auto_flow": null,
            "grid_auto_rows": null,
            "grid_column": null,
            "grid_gap": null,
            "grid_row": null,
            "grid_template_areas": null,
            "grid_template_columns": null,
            "grid_template_rows": null,
            "height": null,
            "justify_content": null,
            "justify_items": null,
            "left": null,
            "margin": null,
            "max_height": null,
            "max_width": null,
            "min_height": null,
            "min_width": null,
            "object_fit": null,
            "object_position": null,
            "order": null,
            "overflow": null,
            "overflow_x": null,
            "overflow_y": null,
            "padding": null,
            "right": null,
            "top": null,
            "visibility": null,
            "width": null
          }
        },
        "097d5ed74fab40d2be1a52853246cb4d": {
          "model_module": "@jupyter-widgets/controls",
          "model_module_version": "1.5.0",
          "model_name": "ButtonModel",
          "state": {
            "_dom_classes": [],
            "_model_module": "@jupyter-widgets/controls",
            "_model_module_version": "1.5.0",
            "_model_name": "ButtonModel",
            "_view_count": null,
            "_view_module": "@jupyter-widgets/controls",
            "_view_module_version": "1.5.0",
            "_view_name": "ButtonView",
            "button_style": "",
            "description": "Login",
            "disabled": false,
            "icon": "",
            "layout": "IPY_MODEL_6980c288f21d42829fdd7aff8110a0c6",
            "style": "IPY_MODEL_5f171279f75949908c4c64eaf0e04f5e",
            "tooltip": ""
          }
        },
        "0a892c1be2314c50b8998de4bf1fda54": {
          "model_module": "@jupyter-widgets/base",
          "model_module_version": "1.2.0",
          "model_name": "LayoutModel",
          "state": {
            "_model_module": "@jupyter-widgets/base",
            "_model_module_version": "1.2.0",
            "_model_name": "LayoutModel",
            "_view_count": null,
            "_view_module": "@jupyter-widgets/base",
            "_view_module_version": "1.2.0",
            "_view_name": "LayoutView",
            "align_content": null,
            "align_items": "center",
            "align_self": null,
            "border": null,
            "bottom": null,
            "display": "flex",
            "flex": null,
            "flex_flow": "column",
            "grid_area": null,
            "grid_auto_columns": null,
            "grid_auto_flow": null,
            "grid_auto_rows": null,
            "grid_column": null,
            "grid_gap": null,
            "grid_row": null,
            "grid_template_areas": null,
            "grid_template_columns": null,
            "grid_template_rows": null,
            "height": null,
            "justify_content": null,
            "justify_items": null,
            "left": null,
            "margin": null,
            "max_height": null,
            "max_width": null,
            "min_height": null,
            "min_width": null,
            "object_fit": null,
            "object_position": null,
            "order": null,
            "overflow": null,
            "overflow_x": null,
            "overflow_y": null,
            "padding": null,
            "right": null,
            "top": null,
            "visibility": null,
            "width": "50%"
          }
        },
        "181863d9e6c0436b952a12d7078f2cad": {
          "model_module": "@jupyter-widgets/controls",
          "model_module_version": "1.5.0",
          "model_name": "HTMLModel",
          "state": {
            "_dom_classes": [],
            "_model_module": "@jupyter-widgets/controls",
            "_model_module_version": "1.5.0",
            "_model_name": "HTMLModel",
            "_view_count": null,
            "_view_module": "@jupyter-widgets/controls",
            "_view_module_version": "1.5.0",
            "_view_name": "HTMLView",
            "description": "",
            "description_tooltip": null,
            "layout": "IPY_MODEL_f3783fb0b5e440b6a481a85a205d10e3",
            "placeholder": "​",
            "style": "IPY_MODEL_758d2bc0a466496bb37c2085c3021ce4",
            "value": "\n<b>Thank You</b></center>"
          }
        },
        "1fbcfc373c61459da88a44af69a16243": {
          "model_module": "@jupyter-widgets/controls",
          "model_module_version": "1.5.0",
          "model_name": "DescriptionStyleModel",
          "state": {
            "_model_module": "@jupyter-widgets/controls",
            "_model_module_version": "1.5.0",
            "_model_name": "DescriptionStyleModel",
            "_view_count": null,
            "_view_module": "@jupyter-widgets/base",
            "_view_module_version": "1.2.0",
            "_view_name": "StyleView",
            "description_width": ""
          }
        },
        "3eb20713104d41a2bddd636488d73820": {
          "model_module": "@jupyter-widgets/controls",
          "model_module_version": "1.5.0",
          "model_name": "TextModel",
          "state": {
            "_dom_classes": [],
            "_model_module": "@jupyter-widgets/controls",
            "_model_module_version": "1.5.0",
            "_model_name": "TextModel",
            "_view_count": null,
            "_view_module": "@jupyter-widgets/controls",
            "_view_module_version": "1.5.0",
            "_view_name": "TextView",
            "continuous_update": true,
            "description": "Username:",
            "description_tooltip": null,
            "disabled": false,
            "layout": "IPY_MODEL_770870a45fcf4ff4bfa83efe78df0f54",
            "placeholder": "​",
            "style": "IPY_MODEL_5c4418a304f44b36b5f694383bf1ae50",
            "value": "kobe1367"
          }
        },
        "5187b35b27054180855f0b5fb71f0753": {
          "model_module": "@jupyter-widgets/base",
          "model_module_version": "1.2.0",
          "model_name": "LayoutModel",
          "state": {
            "_model_module": "@jupyter-widgets/base",
            "_model_module_version": "1.2.0",
            "_model_name": "LayoutModel",
            "_view_count": null,
            "_view_module": "@jupyter-widgets/base",
            "_view_module_version": "1.2.0",
            "_view_name": "LayoutView",
            "align_content": null,
            "align_items": null,
            "align_self": null,
            "border": null,
            "bottom": null,
            "display": null,
            "flex": null,
            "flex_flow": null,
            "grid_area": null,
            "grid_auto_columns": null,
            "grid_auto_flow": null,
            "grid_auto_rows": null,
            "grid_column": null,
            "grid_gap": null,
            "grid_row": null,
            "grid_template_areas": null,
            "grid_template_columns": null,
            "grid_template_rows": null,
            "height": null,
            "justify_content": null,
            "justify_items": null,
            "left": null,
            "margin": null,
            "max_height": null,
            "max_width": null,
            "min_height": null,
            "min_width": null,
            "object_fit": null,
            "object_position": null,
            "order": null,
            "overflow": null,
            "overflow_x": null,
            "overflow_y": null,
            "padding": null,
            "right": null,
            "top": null,
            "visibility": null,
            "width": null
          }
        },
        "5c4418a304f44b36b5f694383bf1ae50": {
          "model_module": "@jupyter-widgets/controls",
          "model_module_version": "1.5.0",
          "model_name": "DescriptionStyleModel",
          "state": {
            "_model_module": "@jupyter-widgets/controls",
            "_model_module_version": "1.5.0",
            "_model_name": "DescriptionStyleModel",
            "_view_count": null,
            "_view_module": "@jupyter-widgets/base",
            "_view_module_version": "1.2.0",
            "_view_name": "StyleView",
            "description_width": ""
          }
        },
        "5f171279f75949908c4c64eaf0e04f5e": {
          "model_module": "@jupyter-widgets/controls",
          "model_module_version": "1.5.0",
          "model_name": "ButtonStyleModel",
          "state": {
            "_model_module": "@jupyter-widgets/controls",
            "_model_module_version": "1.5.0",
            "_model_name": "ButtonStyleModel",
            "_view_count": null,
            "_view_module": "@jupyter-widgets/base",
            "_view_module_version": "1.2.0",
            "_view_name": "StyleView",
            "button_color": null,
            "font_weight": ""
          }
        },
        "6980c288f21d42829fdd7aff8110a0c6": {
          "model_module": "@jupyter-widgets/base",
          "model_module_version": "1.2.0",
          "model_name": "LayoutModel",
          "state": {
            "_model_module": "@jupyter-widgets/base",
            "_model_module_version": "1.2.0",
            "_model_name": "LayoutModel",
            "_view_count": null,
            "_view_module": "@jupyter-widgets/base",
            "_view_module_version": "1.2.0",
            "_view_name": "LayoutView",
            "align_content": null,
            "align_items": null,
            "align_self": null,
            "border": null,
            "bottom": null,
            "display": null,
            "flex": null,
            "flex_flow": null,
            "grid_area": null,
            "grid_auto_columns": null,
            "grid_auto_flow": null,
            "grid_auto_rows": null,
            "grid_column": null,
            "grid_gap": null,
            "grid_row": null,
            "grid_template_areas": null,
            "grid_template_columns": null,
            "grid_template_rows": null,
            "height": null,
            "justify_content": null,
            "justify_items": null,
            "left": null,
            "margin": null,
            "max_height": null,
            "max_width": null,
            "min_height": null,
            "min_width": null,
            "object_fit": null,
            "object_position": null,
            "order": null,
            "overflow": null,
            "overflow_x": null,
            "overflow_y": null,
            "padding": null,
            "right": null,
            "top": null,
            "visibility": null,
            "width": null
          }
        },
        "758d2bc0a466496bb37c2085c3021ce4": {
          "model_module": "@jupyter-widgets/controls",
          "model_module_version": "1.5.0",
          "model_name": "DescriptionStyleModel",
          "state": {
            "_model_module": "@jupyter-widgets/controls",
            "_model_module_version": "1.5.0",
            "_model_name": "DescriptionStyleModel",
            "_view_count": null,
            "_view_module": "@jupyter-widgets/base",
            "_view_module_version": "1.2.0",
            "_view_name": "StyleView",
            "description_width": ""
          }
        },
        "770870a45fcf4ff4bfa83efe78df0f54": {
          "model_module": "@jupyter-widgets/base",
          "model_module_version": "1.2.0",
          "model_name": "LayoutModel",
          "state": {
            "_model_module": "@jupyter-widgets/base",
            "_model_module_version": "1.2.0",
            "_model_name": "LayoutModel",
            "_view_count": null,
            "_view_module": "@jupyter-widgets/base",
            "_view_module_version": "1.2.0",
            "_view_name": "LayoutView",
            "align_content": null,
            "align_items": null,
            "align_self": null,
            "border": null,
            "bottom": null,
            "display": null,
            "flex": null,
            "flex_flow": null,
            "grid_area": null,
            "grid_auto_columns": null,
            "grid_auto_flow": null,
            "grid_auto_rows": null,
            "grid_column": null,
            "grid_gap": null,
            "grid_row": null,
            "grid_template_areas": null,
            "grid_template_columns": null,
            "grid_template_rows": null,
            "height": null,
            "justify_content": null,
            "justify_items": null,
            "left": null,
            "margin": null,
            "max_height": null,
            "max_width": null,
            "min_height": null,
            "min_width": null,
            "object_fit": null,
            "object_position": null,
            "order": null,
            "overflow": null,
            "overflow_x": null,
            "overflow_y": null,
            "padding": null,
            "right": null,
            "top": null,
            "visibility": null,
            "width": null
          }
        },
        "774ef52853f448458a2203688c415e48": {
          "model_module": "@jupyter-widgets/controls",
          "model_module_version": "1.5.0",
          "model_name": "DescriptionStyleModel",
          "state": {
            "_model_module": "@jupyter-widgets/controls",
            "_model_module_version": "1.5.0",
            "_model_name": "DescriptionStyleModel",
            "_view_count": null,
            "_view_module": "@jupyter-widgets/base",
            "_view_module_version": "1.2.0",
            "_view_name": "StyleView",
            "description_width": ""
          }
        },
        "7d96a7c3dbc64d29bc615cb417525038": {
          "model_module": "@jupyter-widgets/controls",
          "model_module_version": "1.5.0",
          "model_name": "DescriptionStyleModel",
          "state": {
            "_model_module": "@jupyter-widgets/controls",
            "_model_module_version": "1.5.0",
            "_model_name": "DescriptionStyleModel",
            "_view_count": null,
            "_view_module": "@jupyter-widgets/base",
            "_view_module_version": "1.2.0",
            "_view_name": "StyleView",
            "description_width": ""
          }
        },
        "8b5e796ef4234e7cb8302043aa14d4b6": {
          "model_module": "@jupyter-widgets/controls",
          "model_module_version": "1.5.0",
          "model_name": "LabelModel",
          "state": {
            "_dom_classes": [],
            "_model_module": "@jupyter-widgets/controls",
            "_model_module_version": "1.5.0",
            "_model_name": "LabelModel",
            "_view_count": null,
            "_view_module": "@jupyter-widgets/controls",
            "_view_module_version": "1.5.0",
            "_view_name": "LabelView",
            "description": "",
            "description_tooltip": null,
            "layout": "IPY_MODEL_5187b35b27054180855f0b5fb71f0753",
            "placeholder": "​",
            "style": "IPY_MODEL_7d96a7c3dbc64d29bc615cb417525038",
            "value": "Kaggle credentials successfully validated."
          }
        },
        "91c2e27988ad486693547c2e0fe1e8a9": {
          "model_module": "@jupyter-widgets/base",
          "model_module_version": "1.2.0",
          "model_name": "LayoutModel",
          "state": {
            "_model_module": "@jupyter-widgets/base",
            "_model_module_version": "1.2.0",
            "_model_name": "LayoutModel",
            "_view_count": null,
            "_view_module": "@jupyter-widgets/base",
            "_view_module_version": "1.2.0",
            "_view_name": "LayoutView",
            "align_content": null,
            "align_items": null,
            "align_self": null,
            "border": null,
            "bottom": null,
            "display": null,
            "flex": null,
            "flex_flow": null,
            "grid_area": null,
            "grid_auto_columns": null,
            "grid_auto_flow": null,
            "grid_auto_rows": null,
            "grid_column": null,
            "grid_gap": null,
            "grid_row": null,
            "grid_template_areas": null,
            "grid_template_columns": null,
            "grid_template_rows": null,
            "height": null,
            "justify_content": null,
            "justify_items": null,
            "left": null,
            "margin": null,
            "max_height": null,
            "max_width": null,
            "min_height": null,
            "min_width": null,
            "object_fit": null,
            "object_position": null,
            "order": null,
            "overflow": null,
            "overflow_x": null,
            "overflow_y": null,
            "padding": null,
            "right": null,
            "top": null,
            "visibility": null,
            "width": null
          }
        },
        "9db69cf773f74c63958967f8822580f4": {
          "model_module": "@jupyter-widgets/controls",
          "model_module_version": "1.5.0",
          "model_name": "DescriptionStyleModel",
          "state": {
            "_model_module": "@jupyter-widgets/controls",
            "_model_module_version": "1.5.0",
            "_model_name": "DescriptionStyleModel",
            "_view_count": null,
            "_view_module": "@jupyter-widgets/base",
            "_view_module_version": "1.2.0",
            "_view_name": "StyleView",
            "description_width": ""
          }
        },
        "aaff80a78d234bd8b2ed2cff3c930a3b": {
          "model_module": "@jupyter-widgets/base",
          "model_module_version": "1.2.0",
          "model_name": "LayoutModel",
          "state": {
            "_model_module": "@jupyter-widgets/base",
            "_model_module_version": "1.2.0",
            "_model_name": "LayoutModel",
            "_view_count": null,
            "_view_module": "@jupyter-widgets/base",
            "_view_module_version": "1.2.0",
            "_view_name": "LayoutView",
            "align_content": null,
            "align_items": null,
            "align_self": null,
            "border": null,
            "bottom": null,
            "display": null,
            "flex": null,
            "flex_flow": null,
            "grid_area": null,
            "grid_auto_columns": null,
            "grid_auto_flow": null,
            "grid_auto_rows": null,
            "grid_column": null,
            "grid_gap": null,
            "grid_row": null,
            "grid_template_areas": null,
            "grid_template_columns": null,
            "grid_template_rows": null,
            "height": null,
            "justify_content": null,
            "justify_items": null,
            "left": null,
            "margin": null,
            "max_height": null,
            "max_width": null,
            "min_height": null,
            "min_width": null,
            "object_fit": null,
            "object_position": null,
            "order": null,
            "overflow": null,
            "overflow_x": null,
            "overflow_y": null,
            "padding": null,
            "right": null,
            "top": null,
            "visibility": null,
            "width": null
          }
        },
        "bbe4e4c410cf406aae53a02748ddb000": {
          "model_module": "@jupyter-widgets/controls",
          "model_module_version": "1.5.0",
          "model_name": "LabelModel",
          "state": {
            "_dom_classes": [],
            "_model_module": "@jupyter-widgets/controls",
            "_model_module_version": "1.5.0",
            "_model_name": "LabelModel",
            "_view_count": null,
            "_view_module": "@jupyter-widgets/controls",
            "_view_module_version": "1.5.0",
            "_view_name": "LabelView",
            "description": "",
            "description_tooltip": null,
            "layout": "IPY_MODEL_aaff80a78d234bd8b2ed2cff3c930a3b",
            "placeholder": "​",
            "style": "IPY_MODEL_774ef52853f448458a2203688c415e48",
            "value": "Connecting..."
          }
        },
        "e5870eb155d1410986a328c9345bc0c4": {
          "model_module": "@jupyter-widgets/controls",
          "model_module_version": "1.5.0",
          "model_name": "HTMLModel",
          "state": {
            "_dom_classes": [],
            "_model_module": "@jupyter-widgets/controls",
            "_model_module_version": "1.5.0",
            "_model_name": "HTMLModel",
            "_view_count": null,
            "_view_module": "@jupyter-widgets/controls",
            "_view_module_version": "1.5.0",
            "_view_name": "HTMLView",
            "description": "",
            "description_tooltip": null,
            "layout": "IPY_MODEL_068dfba94bdd4171a799c446eeffd085",
            "placeholder": "​",
            "style": "IPY_MODEL_9db69cf773f74c63958967f8822580f4",
            "value": "<center> <img\nsrc=https://www.kaggle.com/static/images/site-logo.png\nalt='Kaggle'> <br> Create an API token from <a\nhref=\"https://www.kaggle.com/settings/account\" target=\"_blank\">your Kaggle\nsettings page</a> and paste it below along with your Kaggle username. <br> </center>"
          }
        },
        "f3783fb0b5e440b6a481a85a205d10e3": {
          "model_module": "@jupyter-widgets/base",
          "model_module_version": "1.2.0",
          "model_name": "LayoutModel",
          "state": {
            "_model_module": "@jupyter-widgets/base",
            "_model_module_version": "1.2.0",
            "_model_name": "LayoutModel",
            "_view_count": null,
            "_view_module": "@jupyter-widgets/base",
            "_view_module_version": "1.2.0",
            "_view_name": "LayoutView",
            "align_content": null,
            "align_items": null,
            "align_self": null,
            "border": null,
            "bottom": null,
            "display": null,
            "flex": null,
            "flex_flow": null,
            "grid_area": null,
            "grid_auto_columns": null,
            "grid_auto_flow": null,
            "grid_auto_rows": null,
            "grid_column": null,
            "grid_gap": null,
            "grid_row": null,
            "grid_template_areas": null,
            "grid_template_columns": null,
            "grid_template_rows": null,
            "height": null,
            "justify_content": null,
            "justify_items": null,
            "left": null,
            "margin": null,
            "max_height": null,
            "max_width": null,
            "min_height": null,
            "min_width": null,
            "object_fit": null,
            "object_position": null,
            "order": null,
            "overflow": null,
            "overflow_x": null,
            "overflow_y": null,
            "padding": null,
            "right": null,
            "top": null,
            "visibility": null,
            "width": null
          }
        },
        "fef3b727fbb04ae1858535fd8e24a5cd": {
          "model_module": "@jupyter-widgets/controls",
          "model_module_version": "1.5.0",
          "model_name": "VBoxModel",
          "state": {
            "_dom_classes": [],
            "_model_module": "@jupyter-widgets/controls",
            "_model_module_version": "1.5.0",
            "_model_name": "VBoxModel",
            "_view_count": null,
            "_view_module": "@jupyter-widgets/controls",
            "_view_module_version": "1.5.0",
            "_view_name": "VBoxView",
            "box_style": "",
            "children": [
              "IPY_MODEL_8b5e796ef4234e7cb8302043aa14d4b6"
            ],
            "layout": "IPY_MODEL_0a892c1be2314c50b8998de4bf1fda54"
          }
        }
      }
    }
  },
  "nbformat": 4,
  "nbformat_minor": 0
}
